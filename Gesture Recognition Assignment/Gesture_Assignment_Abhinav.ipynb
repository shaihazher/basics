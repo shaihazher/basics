{
 "cells": [
  {
   "cell_type": "code",
   "execution_count": 1,
   "metadata": {
    "colab": {
     "base_uri": "https://localhost:8080/"
    },
    "executionInfo": {
     "elapsed": 9263,
     "status": "ok",
     "timestamp": 1642927660521,
     "user": {
      "displayName": "Abhinav Goel",
      "photoUrl": "https://lh3.googleusercontent.com/a/default-user=s64",
      "userId": "11532605844347405676"
     },
     "user_tz": -480
    },
    "id": "9GoEJal_VlG3",
    "outputId": "39624616-0227-467e-9018-4b1d6145b045"
   },
   "outputs": [
    {
     "name": "stdout",
     "output_type": "stream",
     "text": [
      "Collecting scipy==1.1.0\n",
      "  Downloading scipy-1.1.0-cp37-cp37m-manylinux1_x86_64.whl (31.2 MB)\n",
      "\u001b[K     |████████████████████████████████| 31.2 MB 1.2 MB/s \n",
      "\u001b[?25hRequirement already satisfied: numpy>=1.8.2 in /usr/local/lib/python3.7/dist-packages (from scipy==1.1.0) (1.19.5)\n",
      "Installing collected packages: scipy\n",
      "  Attempting uninstall: scipy\n",
      "    Found existing installation: scipy 1.4.1\n",
      "    Uninstalling scipy-1.4.1:\n",
      "      Successfully uninstalled scipy-1.4.1\n",
      "\u001b[31mERROR: pip's dependency resolver does not currently take into account all the packages that are installed. This behaviour is the source of the following dependency conflicts.\n",
      "pymc3 3.11.4 requires scipy>=1.2.0, but you have scipy 1.1.0 which is incompatible.\n",
      "plotnine 0.6.0 requires scipy>=1.2.0, but you have scipy 1.1.0 which is incompatible.\n",
      "jax 0.2.25 requires scipy>=1.2.1, but you have scipy 1.1.0 which is incompatible.\n",
      "albumentations 0.1.12 requires imgaug<0.2.7,>=0.2.5, but you have imgaug 0.2.9 which is incompatible.\u001b[0m\n",
      "Successfully installed scipy-1.1.0\n"
     ]
    }
   ],
   "source": [
    "# installing Scipy\n",
    "!pip install scipy==1.1.0"
   ]
  },
  {
   "cell_type": "markdown",
   "metadata": {
    "id": "hmSAcd2FEWoe"
   },
   "source": [
    "# Gesture Recognition\n",
    "In this group project, you are going to build a CNN + RNN model and 3D Conv model that will be able to predict the 5 gestures correctly. Please import the following libraries to get started."
   ]
  },
  {
   "cell_type": "code",
   "execution_count": 2,
   "metadata": {
    "executionInfo": {
     "elapsed": 313,
     "status": "ok",
     "timestamp": 1642927667119,
     "user": {
      "displayName": "Abhinav Goel",
      "photoUrl": "https://lh3.googleusercontent.com/a/default-user=s64",
      "userId": "11532605844347405676"
     },
     "user_tz": -480
    },
    "id": "-biLIkZ9Vn86"
   },
   "outputs": [],
   "source": [
    "import numpy as np\n",
    "import os\n",
    "from scipy.misc import imread, imresize\n",
    "import datetime\n",
    "import os"
   ]
  },
  {
   "cell_type": "code",
   "execution_count": 3,
   "metadata": {
    "executionInfo": {
     "elapsed": 2139,
     "status": "ok",
     "timestamp": 1642927672867,
     "user": {
      "displayName": "Abhinav Goel",
      "photoUrl": "https://lh3.googleusercontent.com/a/default-user=s64",
      "userId": "11532605844347405676"
     },
     "user_tz": -480
    },
    "id": "qH-RlQ_sV2-J"
   },
   "outputs": [],
   "source": [
    "import pathlib\n",
    "import tensorflow as tf\n",
    "import matplotlib.pyplot as plt\n",
    "import numpy as np\n",
    "import pandas as pd\n",
    "import os\n",
    "import PIL\n",
    "import glob\n",
    "from tensorflow import keras\n",
    "from tensorflow.keras import layers\n",
    "from tensorflow.keras.models import Sequential\n",
    "from glob import glob"
   ]
  },
  {
   "cell_type": "markdown",
   "metadata": {
    "id": "TjJQ22tkEhwM"
   },
   "source": [
    "We set the random seed so that the results don't vary drastically."
   ]
  },
  {
   "cell_type": "code",
   "execution_count": 4,
   "metadata": {
    "executionInfo": {
     "elapsed": 322,
     "status": "ok",
     "timestamp": 1642927676149,
     "user": {
      "displayName": "Abhinav Goel",
      "photoUrl": "https://lh3.googleusercontent.com/a/default-user=s64",
      "userId": "11532605844347405676"
     },
     "user_tz": -480
    },
    "id": "HX2UC_XxV8Tp"
   },
   "outputs": [],
   "source": [
    "np.random.seed(30)\n",
    "import random as rn\n",
    "rn.seed(30)\n",
    "from tensorflow.keras import backend as K\n",
    "import tensorflow as tf\n",
    "#tf.set_random_seed(30)\n",
    "tf.random.set_seed(30)"
   ]
  },
  {
   "cell_type": "markdown",
   "metadata": {
    "id": "ZblbNqK0Ej8N"
   },
   "source": [
    "Mounting Google Drive"
   ]
  },
  {
   "cell_type": "code",
   "execution_count": 5,
   "metadata": {
    "colab": {
     "base_uri": "https://localhost:8080/"
    },
    "executionInfo": {
     "elapsed": 14120,
     "status": "ok",
     "timestamp": 1642927694135,
     "user": {
      "displayName": "Abhinav Goel",
      "photoUrl": "https://lh3.googleusercontent.com/a/default-user=s64",
      "userId": "11532605844347405676"
     },
     "user_tz": -480
    },
    "id": "9q9ZZ7qSWEuI",
    "outputId": "d5735585-6780-41ae-8278-416be18b884f"
   },
   "outputs": [
    {
     "name": "stdout",
     "output_type": "stream",
     "text": [
      "Mounted at /content/drive\n"
     ]
    }
   ],
   "source": [
    "from google.colab import drive\n",
    "drive.mount('/content/drive')"
   ]
  },
  {
   "cell_type": "markdown",
   "metadata": {
    "id": "kaqhc5mwEnU_"
   },
   "source": [
    "Setting Root path "
   ]
  },
  {
   "cell_type": "code",
   "execution_count": 25,
   "metadata": {
    "executionInfo": {
     "elapsed": 372,
     "status": "ok",
     "timestamp": 1642927982997,
     "user": {
      "displayName": "Abhinav Goel",
      "photoUrl": "https://lh3.googleusercontent.com/a/default-user=s64",
      "userId": "11532605844347405676"
     },
     "user_tz": -480
    },
    "id": "pJIEW6MYWIz5"
   },
   "outputs": [],
   "source": [
    "#root_path = 'drive/MyDrive/app'\n",
    "root_path = 'app'"
   ]
  },
  {
   "cell_type": "markdown",
   "metadata": {
    "id": "lt3nFaHeEwjb"
   },
   "source": [
    "Changing OS Dir to my Google drive path"
   ]
  },
  {
   "cell_type": "code",
   "execution_count": 22,
   "metadata": {
    "executionInfo": {
     "elapsed": 317,
     "status": "ok",
     "timestamp": 1642927956168,
     "user": {
      "displayName": "Abhinav Goel",
      "photoUrl": "https://lh3.googleusercontent.com/a/default-user=s64",
      "userId": "11532605844347405676"
     },
     "user_tz": -480
    },
    "id": "NCCpEFMwCY2U"
   },
   "outputs": [],
   "source": [
    "os.chdir('/content/drive/MyDrive')\n",
    "os.getcwd()"
   ]
  },
  {
   "cell_type": "markdown",
   "metadata": {
    "id": "Y4KjpZwnE5oS"
   },
   "source": [
    "In this block, you read the folder names for training and validation. You also set the `batch_size` here. Note that you set the batch size in such a way that you are able to use the GPU in full capacity. You keep increasing the batch size until the machine throws an error."
   ]
  },
  {
   "cell_type": "code",
   "execution_count": 58,
   "metadata": {
    "executionInfo": {
     "elapsed": 320,
     "status": "ok",
     "timestamp": 1642934026547,
     "user": {
      "displayName": "Abhinav Goel",
      "photoUrl": "https://lh3.googleusercontent.com/a/default-user=s64",
      "userId": "11532605844347405676"
     },
     "user_tz": -480
    },
    "id": "Hos3qYKQWPpg"
   },
   "outputs": [],
   "source": [
    "train_doc = np.random.permutation(open(root_path+'/Project_data/train.csv').readlines())\n",
    "val_doc = np.random.permutation(open(root_path+'/Project_data/val.csv').readlines())\n",
    "batch_size = 32"
   ]
  },
  {
   "cell_type": "markdown",
   "metadata": {
    "id": "25JWEcAIE_8z"
   },
   "source": [
    "Note here that a video is represented above in the generator as (number of images, height, width, number of channels). Take this into consideration while creating the model architecture."
   ]
  },
  {
   "cell_type": "code",
   "execution_count": 29,
   "metadata": {
    "colab": {
     "base_uri": "https://localhost:8080/"
    },
    "executionInfo": {
     "elapsed": 296,
     "status": "ok",
     "timestamp": 1642928004852,
     "user": {
      "displayName": "Abhinav Goel",
      "photoUrl": "https://lh3.googleusercontent.com/a/default-user=s64",
      "userId": "11532605844347405676"
     },
     "user_tz": -480
    },
    "id": "wkjAHIeb5hE7",
    "outputId": "8b86220d-0f60-4d24-97b4-89e92b89ad32"
   },
   "outputs": [
    {
     "name": "stdout",
     "output_type": "stream",
     "text": [
      "# training sequences = 663\n",
      "# validation sequences = 100\n"
     ]
    }
   ],
   "source": [
    "curr_dt_time = datetime.datetime.now()\n",
    "train_path = root_path+'/Project_data/train'\n",
    "val_path = root_path+'/Project_data/val'\n",
    "num_train_sequences = len(train_doc)\n",
    "print('# training sequences =', num_train_sequences)\n",
    "num_val_sequences = len(val_doc)\n",
    "print('# validation sequences =', num_val_sequences)"
   ]
  },
  {
   "cell_type": "markdown",
   "metadata": {
    "id": "bCQg8U2zFD4R"
   },
   "source": [
    "Retrieving Image list in 1st folder for checking"
   ]
  },
  {
   "cell_type": "code",
   "execution_count": 30,
   "metadata": {
    "executionInfo": {
     "elapsed": 4365,
     "status": "ok",
     "timestamp": 1642928013121,
     "user": {
      "displayName": "Abhinav Goel",
      "photoUrl": "https://lh3.googleusercontent.com/a/default-user=s64",
      "userId": "11532605844347405676"
     },
     "user_tz": -480
    },
    "id": "Pjj6SgVeWTpw"
   },
   "outputs": [],
   "source": [
    "sample_image_list = os.listdir(train_path +'/'+ np.random.permutation(train_doc)[0].split(';')[0])"
   ]
  },
  {
   "cell_type": "code",
   "execution_count": 31,
   "metadata": {
    "colab": {
     "base_uri": "https://localhost:8080/"
    },
    "executionInfo": {
     "elapsed": 287,
     "status": "ok",
     "timestamp": 1642928015746,
     "user": {
      "displayName": "Abhinav Goel",
      "photoUrl": "https://lh3.googleusercontent.com/a/default-user=s64",
      "userId": "11532605844347405676"
     },
     "user_tz": -480
    },
    "id": "jSN86x046gNH",
    "outputId": "90a59bae-ff6c-48a7-932b-0a7fd24fe07d"
   },
   "outputs": [
    {
     "name": "stdout",
     "output_type": "stream",
     "text": [
      "['WIN_20180907_15_46_43_Pro_00042.png', 'WIN_20180907_15_46_43_Pro_00046.png', 'WIN_20180907_15_46_43_Pro_00028.png', 'WIN_20180907_15_46_43_Pro_00040.png', 'WIN_20180907_15_46_43_Pro_00022.png', 'WIN_20180907_15_46_43_Pro_00036.png', 'WIN_20180907_15_46_43_Pro_00032.png', 'WIN_20180907_15_46_43_Pro_00038.png', 'WIN_20180907_15_46_43_Pro_00026.png', 'WIN_20180907_15_46_43_Pro_00024.png', 'WIN_20180907_15_46_43_Pro_00034.png', 'WIN_20180907_15_46_43_Pro_00030.png', 'WIN_20180907_15_46_43_Pro_00020.png', 'WIN_20180907_15_46_43_Pro_00044.png', 'WIN_20180907_15_46_43_Pro_00048.png', 'WIN_20180907_15_46_43_Pro_00074.png', 'WIN_20180907_15_46_43_Pro_00078.png', 'WIN_20180907_15_46_43_Pro_00054.png', 'WIN_20180907_15_46_43_Pro_00052.png', 'WIN_20180907_15_46_43_Pro_00058.png', 'WIN_20180907_15_46_43_Pro_00050.png', 'WIN_20180907_15_46_43_Pro_00064.png', 'WIN_20180907_15_46_43_Pro_00062.png', 'WIN_20180907_15_46_43_Pro_00056.png', 'WIN_20180907_15_46_43_Pro_00070.png', 'WIN_20180907_15_46_43_Pro_00068.png', 'WIN_20180907_15_46_43_Pro_00072.png', 'WIN_20180907_15_46_43_Pro_00066.png', 'WIN_20180907_15_46_43_Pro_00060.png', 'WIN_20180907_15_46_43_Pro_00076.png']\n"
     ]
    }
   ],
   "source": [
    "print(sample_image_list)"
   ]
  },
  {
   "cell_type": "markdown",
   "metadata": {
    "id": "P5sTsgISFJxb"
   },
   "source": [
    "Retrieving 1st image from folder"
   ]
  },
  {
   "cell_type": "code",
   "execution_count": 32,
   "metadata": {
    "colab": {
     "base_uri": "https://localhost:8080/"
    },
    "executionInfo": {
     "elapsed": 811,
     "status": "ok",
     "timestamp": 1642928020740,
     "user": {
      "displayName": "Abhinav Goel",
      "photoUrl": "https://lh3.googleusercontent.com/a/default-user=s64",
      "userId": "11532605844347405676"
     },
     "user_tz": -480
    },
    "id": "t9-1DAWJ6iEh",
    "outputId": "2ea6fe36-cea3-49c4-e05e-f8cbac41a7b9"
   },
   "outputs": [
    {
     "name": "stderr",
     "output_type": "stream",
     "text": [
      "/usr/local/lib/python3.7/dist-packages/ipykernel_launcher.py:2: DeprecationWarning:     `imread` is deprecated!\n",
      "    `imread` is deprecated in SciPy 1.0.0, and will be removed in 1.2.0.\n",
      "    Use ``imageio.imread`` instead.\n",
      "  \n"
     ]
    }
   ],
   "source": [
    "sample_im_path = train_path +'/'+ train_doc[0].split(';')[0]\n",
    "sample = imread(sample_im_path+'/'+os.listdir(sample_im_path)[0])"
   ]
  },
  {
   "cell_type": "code",
   "execution_count": 33,
   "metadata": {
    "executionInfo": {
     "elapsed": 283,
     "status": "ok",
     "timestamp": 1642928026980,
     "user": {
      "displayName": "Abhinav Goel",
      "photoUrl": "https://lh3.googleusercontent.com/a/default-user=s64",
      "userId": "11532605844347405676"
     },
     "user_tz": -480
    },
    "id": "kPsmkykH67q3"
   },
   "outputs": [],
   "source": [
    "import matplotlib.pyplot as plt\n",
    "%matplotlib inline"
   ]
  },
  {
   "cell_type": "markdown",
   "metadata": {
    "id": "mJBwnpBrFOZg"
   },
   "source": [
    "Plotting Sample Image"
   ]
  },
  {
   "cell_type": "code",
   "execution_count": 34,
   "metadata": {
    "colab": {
     "base_uri": "https://localhost:8080/",
     "height": 287
    },
    "executionInfo": {
     "elapsed": 1115,
     "status": "ok",
     "timestamp": 1642928031365,
     "user": {
      "displayName": "Abhinav Goel",
      "photoUrl": "https://lh3.googleusercontent.com/a/default-user=s64",
      "userId": "11532605844347405676"
     },
     "user_tz": -480
    },
    "id": "V0xWkYzQ69PE",
    "outputId": "d2877837-45fe-451f-8163-53e7baef0b4d"
   },
   "outputs": [
    {
     "data": {
      "text/plain": [
       "<matplotlib.image.AxesImage at 0x7f766da83110>"
      ]
     },
     "execution_count": 34,
     "metadata": {},
     "output_type": "execute_result"
    },
    {
     "data": {
      "image/png": "[encoded data removed]",
      "text/plain": [
       "<Figure size 432x288 with 1 Axes>"
      ]
     },
     "metadata": {
      "needs_background": "light"
     },
     "output_type": "display_data"
    }
   ],
   "source": [
    "plt.imshow(sample)"
   ]
  },
  {
   "cell_type": "markdown",
   "metadata": {
    "id": "polqjFk8FUFR"
   },
   "source": [
    "Defining Image and Video parameters required for model definition"
   ]
  },
  {
   "cell_type": "code",
   "execution_count": 35,
   "metadata": {
    "executionInfo": {
     "elapsed": 319,
     "status": "ok",
     "timestamp": 1642928034321,
     "user": {
      "displayName": "Abhinav Goel",
      "photoUrl": "https://lh3.googleusercontent.com/a/default-user=s64",
      "userId": "11532605844347405676"
     },
     "user_tz": -480
    },
    "id": "ezaIL-W3hUql"
   },
   "outputs": [],
   "source": [
    "rows = 120   # X \n",
    "cols = 120   # Y \n",
    "channel = 3  # number of channels in images 3 for color(RGB)\n",
    "frames= 10"
   ]
  },
  {
   "cell_type": "markdown",
   "metadata": {
    "id": "D9x5RaNJFZzZ"
   },
   "source": [
    "Defining functions for Cropping and Resizing image as per parameters defined earlier"
   ]
  },
  {
   "cell_type": "code",
   "execution_count": 36,
   "metadata": {
    "executionInfo": {
     "elapsed": 293,
     "status": "ok",
     "timestamp": 1642928036954,
     "user": {
      "displayName": "Abhinav Goel",
      "photoUrl": "https://lh3.googleusercontent.com/a/default-user=s64",
      "userId": "11532605844347405676"
     },
     "user_tz": -480
    },
    "id": "aZhBgzXa8kB0"
   },
   "outputs": [],
   "source": [
    "#data resizing - Resizing all the images, so we can have all the images in a specific size\n",
    "def crop_resize_img(img):\n",
    "    if img.shape[0] != img.shape[1]:\n",
    "        img=img[0:120,10:150]\n",
    "    resized_image = imresize(img, (rows,cols))\n",
    "    return resized_image"
   ]
  },
  {
   "cell_type": "markdown",
   "metadata": {
    "id": "3TPnFr_vFgih"
   },
   "source": [
    "Defining function to normalize image using Min Max"
   ]
  },
  {
   "cell_type": "code",
   "execution_count": 37,
   "metadata": {
    "executionInfo": {
     "elapsed": 294,
     "status": "ok",
     "timestamp": 1642928039733,
     "user": {
      "displayName": "Abhinav Goel",
      "photoUrl": "https://lh3.googleusercontent.com/a/default-user=s64",
      "userId": "11532605844347405676"
     },
     "user_tz": -480
    },
    "id": "5IymkMpJ8x61"
   },
   "outputs": [],
   "source": [
    "# normalize using min max \n",
    "def normalize_image(img):\n",
    "    #using percentile for normalization for images, as min-max is giving better results.\n",
    "    normalized_image= (img - np.min(img))/(np.max(img)- np.min(img))\n",
    "    return normalized_image"
   ]
  },
  {
   "cell_type": "markdown",
   "metadata": {
    "id": "Jj1n6z8zFk8j"
   },
   "source": [
    "## Generator\n",
    "This is one of the most important part of the code. The overall structure of the generator has been given. In the generator, you are going to preprocess the images as you have images of 2 different dimensions as well as create a batch of video frames. You have to experiment with `img_idx`, `y`,`z` and normalization such that you get high accuracy."
   ]
  },
  {
   "cell_type": "code",
   "execution_count": 38,
   "metadata": {
    "executionInfo": {
     "elapsed": 287,
     "status": "ok",
     "timestamp": 1642928050320,
     "user": {
      "displayName": "Abhinav Goel",
      "photoUrl": "https://lh3.googleusercontent.com/a/default-user=s64",
      "userId": "11532605844347405676"
     },
     "user_tz": -480
    },
    "id": "A_AG5ydp8-1u"
   },
   "outputs": [],
   "source": [
    "def generator(source_path, folder_list, batch_size):\n",
    "    print( 'Source path = ', source_path, '; batch size =', batch_size)\n",
    "    img_idx = np.arange(0,30,3) #create a list of image numbers you want to use for a particular video\n",
    "    while True:\n",
    "        t = np.random.permutation(folder_list)\n",
    "        num_batches = len(folder_list)//batch_size # calculate the number of batches\n",
    "        for batch in range(num_batches): # we iterate over the number of batches\n",
    "            batch_data = np.zeros((batch_size,frames,rows,cols,channel)) # x is the number of images you use for each video, (y,z) is the final size of the input images and 3 is the number of channels RGB\n",
    "            batch_labels = np.zeros((batch_size,5)) # batch_labels is the one hot representation of the output\n",
    "            for folder in range(batch_size): # iterate over the batch_size\n",
    "                imgs = os.listdir(source_path+'/'+ t[folder + (batch*batch_size)].split(';')[0]) # read all the images in the folder\n",
    "                for idx,item in enumerate(img_idx): #  Iterate iver the frames/images of a folder to read them in\n",
    "                    image = imread(source_path+'/'+ t[folder + (batch*batch_size)].strip().split(';')[0]+'/'+imgs[item]).astype(np.float32)\n",
    "                    \n",
    "                    #crop the images and resize them. Note that the images are of 2 different shape \n",
    "                    #and the conv3D will throw error if the inputs in a batch have different shapes\n",
    "                    resized_image=crop_resize_img(image)\n",
    "                    batch_data[folder,idx,:,:,0] = normalize_image(resized_image[:, : , 0]) #normalise and feed in the image\n",
    "                    batch_data[folder,idx,:,:,1] = normalize_image(resized_image[:, : , 1])#normalise and feed in the image\n",
    "                    batch_data[folder,idx,:,:,2] = normalize_image(resized_image[:, : , 2])#normalise and feed in the image\n",
    "                    \n",
    "                batch_labels[folder, int(t[folder + (batch*batch_size)].strip().split(';')[2])] = 1\n",
    "            yield batch_data, batch_labels #you yield the batch_data and the batch_labels, remember what does yield do\n",
    "        \n",
    "        # write the code for the remaining data points which are left after full batches\n",
    "        rem_image = len(folder_list)%batch_size\n",
    "        batch += 1\n",
    "        if(rem_image!=0):\n",
    "            batch_data = np.zeros((rem_image,frames,rows,cols,channel)) # x is the number of images you use for each video, (y,z) is the final size of the input images and 3 is the number of channels RGB\n",
    "            batch_labels = np.zeros((rem_image,5)) # batch_labels is the one hot representation of the output\n",
    "            for folder in range(rem_image): # iterate over the batch_size\n",
    "                imgs = os.listdir(source_path+'/'+ t[folder + (batch*batch_size)].split(';')[0]) # read all the images in the folder\n",
    "                for idx,item in enumerate(img_idx): #  Iterate iver the frames/images of a folder to read them in\n",
    "                    image = imread(source_path+'/'+ t[folder + (batch*batch_size)].strip().split(';')[0]+'/'+imgs[item]).astype(np.float32)\n",
    "                    \n",
    "                    #crop the images and resize them. Note that the images are of 2 different shape \n",
    "                    #and the conv3D will throw error if the inputs in a batch have different shapes\n",
    "                    resized_image=crop_resize_img(image)\n",
    "                    batch_data[folder,idx,:,:,0] = normalize_image(resized_image[:, : , 0])\n",
    "                    batch_data[folder,idx,:,:,1] = normalize_image(resized_image[:, : , 1])\n",
    "                    batch_data[folder,idx,:,:,2] = normalize_image(resized_image[:, : , 2])\n",
    "                    \n",
    "                batch_labels[folder, int(t[folder + (batch*batch_size)].strip().split(';')[2])] = 1\n",
    "            yield batch_data, batch_labels\n",
    "        \n",
    "     "
   ]
  },
  {
   "cell_type": "markdown",
   "metadata": {
    "id": "uHK7WoYDFudo"
   },
   "source": [
    "Choosing number of Epochs to run for 1st model"
   ]
  },
  {
   "cell_type": "code",
   "execution_count": 56,
   "metadata": {
    "colab": {
     "base_uri": "https://localhost:8080/"
    },
    "executionInfo": {
     "elapsed": 296,
     "status": "ok",
     "timestamp": 1642933895728,
     "user": {
      "displayName": "Abhinav Goel",
      "photoUrl": "https://lh3.googleusercontent.com/a/default-user=s64",
      "userId": "11532605844347405676"
     },
     "user_tz": -480
    },
    "id": "v-S_o6EnCfKP",
    "outputId": "b00ca838-dc54-42fc-c915-23483af55327"
   },
   "outputs": [
    {
     "name": "stdout",
     "output_type": "stream",
     "text": [
      "# epochs = 30\n"
     ]
    }
   ],
   "source": [
    "num_epochs = 30 # choose the number of epochs\n",
    "print ('# epochs =', num_epochs)"
   ]
  },
  {
   "cell_type": "markdown",
   "metadata": {
    "id": "qrYs8V1cF4cJ"
   },
   "source": [
    "## Model\n",
    "Here you make the model using different functionalities that Keras provides. Remember to use `Conv3D` and `MaxPooling3D` and not `Conv2D` and `Maxpooling2D` for a 3D convolution model. You would want to use `TimeDistributed` while building a Conv2D + RNN model. Also remember that the last layer is the softmax. Design the network in such a way that the model is able to give good accuracy on the least number of parameters so that it can fit in the memory of the webcam."
   ]
  },
  {
   "cell_type": "code",
   "execution_count": 39,
   "metadata": {
    "executionInfo": {
     "elapsed": 345,
     "status": "ok",
     "timestamp": 1642928099436,
     "user": {
      "displayName": "Abhinav Goel",
      "photoUrl": "https://lh3.googleusercontent.com/a/default-user=s64",
      "userId": "11532605844347405676"
     },
     "user_tz": -480
    },
    "id": "dYyrXzICCxaf"
   },
   "outputs": [],
   "source": [
    "\n",
    "\n",
    "from keras.models import Sequential, Model\n",
    "from keras.layers import Dense, GRU, Flatten, TimeDistributed, Flatten, BatchNormalization, Activation, Dropout,LSTM\n",
    "from keras.layers.convolutional import Conv3D,Conv2D, MaxPooling3D,MaxPooling2D\n",
    "from keras.callbacks import ModelCheckpoint, ReduceLROnPlateau\n",
    "from keras import optimizers\n",
    "from tensorflow.keras.applications import ResNet50\n",
    "from tensorflow.keras.applications.resnet50 import preprocess_input\n",
    "\n",
    "\n"
   ]
  },
  {
   "cell_type": "markdown",
   "metadata": {
    "id": "V6XWogiSGBRc"
   },
   "source": [
    "# Model 1\n",
    "\n",
    "Defining 1st model using Time distributed Cov2D and GRU"
   ]
  },
  {
   "cell_type": "code",
   "execution_count": 59,
   "metadata": {
    "executionInfo": {
     "elapsed": 794,
     "status": "ok",
     "timestamp": 1642934058485,
     "user": {
      "displayName": "Abhinav Goel",
      "photoUrl": "https://lh3.googleusercontent.com/a/default-user=s64",
      "userId": "11532605844347405676"
     },
     "user_tz": -480
    },
    "id": "7xhs-lkZDNzP"
   },
   "outputs": [],
   "source": [
    "\n",
    "\n",
    "#write your model here\n",
    "nb_featuremap = [8,16,32,64]\n",
    "nb_dense = [128,64,5]\n",
    "nb_classes = 5\n",
    "# Input\n",
    "input_shape=(frames,rows,cols,channel)\n",
    "\n",
    "model = Sequential()\n",
    "\n",
    "model.add(TimeDistributed(Conv2D(nb_featuremap[0], (3, 3), strides=(2, 2),activation='relu', padding='same'), input_shape=input_shape))\n",
    "\n",
    "\n",
    "model.add(TimeDistributed(Conv2D(nb_featuremap[1], (3,3),padding='same', activation='relu')))\n",
    "model.add(TimeDistributed(MaxPooling2D((2, 2), strides=(2, 2))))\n",
    "\n",
    "model.add(TimeDistributed(Conv2D(nb_featuremap[2], (3,3),padding='same', activation='relu')))\n",
    "model.add(TimeDistributed(MaxPooling2D((2, 2), strides=(2, 2))))\n",
    "\n",
    "model.add(TimeDistributed(Conv2D(nb_featuremap[3], (2,2),padding='same', activation='relu')))\n",
    "model.add(TimeDistributed(MaxPooling2D((2, 2), strides=(2, 2))))\n",
    "\n",
    "model.add(TimeDistributed(BatchNormalization()))\n",
    "model.add(Dropout(0.25))\n",
    "\n",
    "model.add(TimeDistributed(Flatten()))\n",
    "\n",
    "model.add(Dense(nb_dense[0], activation='relu'))\n",
    "model.add(Dropout(0.25))\n",
    "model.add(Dense(nb_dense[1], activation='relu'))\n",
    "model.add(Dropout(0.25))\n",
    "\n",
    "## using GRU as the RNN model along with softmax as our last layer.\n",
    "model.add(GRU(128, return_sequences=False))\n",
    "model.add(Dense(nb_classes, activation='softmax')) # using Softmax as last layer\n",
    "\n"
   ]
  },
  {
   "cell_type": "markdown",
   "metadata": {
    "id": "kMRpOUo1GO39"
   },
   "source": [
    "Now that you have written the model, the next step is to `compile` the model. When you print the `summary` of the model, you'll see the total number of parameters you have to train.\n",
    "\n",
    "Let us create the `train_generator` and the `val_generator` which will be used in `.fit_generator`."
   ]
  },
  {
   "cell_type": "code",
   "execution_count": 60,
   "metadata": {
    "colab": {
     "base_uri": "https://localhost:8080/"
    },
    "executionInfo": {
     "elapsed": 310,
     "status": "ok",
     "timestamp": 1642934064280,
     "user": {
      "displayName": "Abhinav Goel",
      "photoUrl": "https://lh3.googleusercontent.com/a/default-user=s64",
      "userId": "11532605844347405676"
     },
     "user_tz": -480
    },
    "id": "MoUD3LvxEl1_",
    "outputId": "ef15f093-7e89-4675-dbff-09f29ae13a3d"
   },
   "outputs": [
    {
     "name": "stdout",
     "output_type": "stream",
     "text": [
      "Model: \"sequential_3\"\n",
      "_________________________________________________________________\n",
      " Layer (type)                Output Shape              Param #   \n",
      "=================================================================\n",
      " time_distributed_41 (TimeDi  (None, 10, 60, 60, 8)    224       \n",
      " stributed)                                                      \n",
      "                                                                 \n",
      " time_distributed_42 (TimeDi  (None, 10, 60, 60, 16)   1168      \n",
      " stributed)                                                      \n",
      "                                                                 \n",
      " time_distributed_43 (TimeDi  (None, 10, 30, 30, 16)   0         \n",
      " stributed)                                                      \n",
      "                                                                 \n",
      " time_distributed_44 (TimeDi  (None, 10, 30, 30, 32)   4640      \n",
      " stributed)                                                      \n",
      "                                                                 \n",
      " time_distributed_45 (TimeDi  (None, 10, 15, 15, 32)   0         \n",
      " stributed)                                                      \n",
      "                                                                 \n",
      " time_distributed_46 (TimeDi  (None, 10, 15, 15, 64)   8256      \n",
      " stributed)                                                      \n",
      "                                                                 \n",
      " time_distributed_47 (TimeDi  (None, 10, 7, 7, 64)     0         \n",
      " stributed)                                                      \n",
      "                                                                 \n",
      " time_distributed_48 (TimeDi  (None, 10, 7, 7, 64)     256       \n",
      " stributed)                                                      \n",
      "                                                                 \n",
      " dropout_8 (Dropout)         (None, 10, 7, 7, 64)      0         \n",
      "                                                                 \n",
      " time_distributed_49 (TimeDi  (None, 10, 3136)         0         \n",
      " stributed)                                                      \n",
      "                                                                 \n",
      " dense_8 (Dense)             (None, 10, 128)           401536    \n",
      "                                                                 \n",
      " dropout_9 (Dropout)         (None, 10, 128)           0         \n",
      "                                                                 \n",
      " dense_9 (Dense)             (None, 10, 64)            8256      \n",
      "                                                                 \n",
      " dropout_10 (Dropout)        (None, 10, 64)            0         \n",
      "                                                                 \n",
      " gru_1 (GRU)                 (None, 128)               74496     \n",
      "                                                                 \n",
      " dense_10 (Dense)            (None, 5)                 645       \n",
      "                                                                 \n",
      "=================================================================\n",
      "Total params: 499,477\n",
      "Trainable params: 499,349\n",
      "Non-trainable params: 128\n",
      "_________________________________________________________________\n",
      "None\n"
     ]
    }
   ],
   "source": [
    "\n",
    "\n",
    "from tensorflow.keras.optimizers import Adam\n",
    "\n",
    "optimiser =Adam(0.001) #write your optimizer\n",
    "model.compile(optimizer=optimiser, loss='categorical_crossentropy', metrics=['categorical_accuracy'])\n",
    "print (model.summary())\n",
    "\n",
    "# creating the `train_generator` and the `val_generator` which will be used in `.fit_generator`\n",
    "train_generator = generator(train_path, train_doc, batch_size)\n",
    "val_generator = generator(val_path, val_doc, batch_size)\n",
    "\n"
   ]
  },
  {
   "cell_type": "markdown",
   "metadata": {
    "id": "EiV3Z-L-GcFM"
   },
   "source": [
    "Define Model checkpoint to be stored after every epoch and Learning Rate "
   ]
  },
  {
   "cell_type": "code",
   "execution_count": 61,
   "metadata": {
    "colab": {
     "base_uri": "https://localhost:8080/"
    },
    "executionInfo": {
     "elapsed": 295,
     "status": "ok",
     "timestamp": 1642934073632,
     "user": {
      "displayName": "Abhinav Goel",
      "photoUrl": "https://lh3.googleusercontent.com/a/default-user=s64",
      "userId": "11532605844347405676"
     },
     "user_tz": -480
    },
    "id": "k-WcBYlVFc9H",
    "outputId": "7afbc9a7-12ac-4dd0-a1f1-01fc43463c5e"
   },
   "outputs": [
    {
     "name": "stdout",
     "output_type": "stream",
     "text": [
      "WARNING:tensorflow:`period` argument is deprecated. Please use `save_freq` to specify the frequency in number of batches seen.\n",
      "WARNING:tensorflow:`epsilon` argument is deprecated and will be removed, use `min_delta` instead.\n"
     ]
    }
   ],
   "source": [
    "model_name = 'model_init' + '_' + str(curr_dt_time).replace(' ','').replace(':','_') + '/'\n",
    "    \n",
    "if not os.path.exists(model_name):\n",
    "    os.mkdir(model_name)\n",
    "        \n",
    "filepath = model_name + 'model-{epoch:05d}-{loss:.5f}-{categorical_accuracy:.5f}-{val_loss:.5f}-{val_categorical_accuracy:.5f}.h5'\n",
    "\n",
    "checkpoint = ModelCheckpoint(filepath, monitor='val_loss', verbose=1, save_best_only=False, save_weights_only=False, mode='auto', period=1)\n",
    "\n",
    "LR = ReduceLROnPlateau(monitor='val_loss', factor=0.01, patience=5, cooldown=4, verbose=1,mode='auto',epsilon=0.0001) # write the REducelronplateau code here\n",
    "callbacks_list = [checkpoint, LR]\n",
    "\n",
    "\n"
   ]
  },
  {
   "cell_type": "markdown",
   "metadata": {
    "id": "H-hoU7B0Gkv8"
   },
   "source": [
    "The `steps_per_epoch` and `validation_steps` are used by `fit_generator` to decide the number of next() calls it need to make."
   ]
  },
  {
   "cell_type": "code",
   "execution_count": 62,
   "metadata": {
    "executionInfo": {
     "elapsed": 295,
     "status": "ok",
     "timestamp": 1642934078090,
     "user": {
      "displayName": "Abhinav Goel",
      "photoUrl": "https://lh3.googleusercontent.com/a/default-user=s64",
      "userId": "11532605844347405676"
     },
     "user_tz": -480
    },
    "id": "0xkWk1UcGN9w"
   },
   "outputs": [],
   "source": [
    "if (num_train_sequences%batch_size) == 0:\n",
    "    steps_per_epoch = int(num_train_sequences/batch_size)\n",
    "else:\n",
    "    steps_per_epoch = (num_train_sequences//batch_size) + 1\n",
    "\n",
    "if (num_val_sequences%batch_size) == 0:\n",
    "    validation_steps = int(num_val_sequences/batch_size)\n",
    "else:\n",
    "    validation_steps = (num_val_sequences//batch_size) + 1"
   ]
  },
  {
   "cell_type": "markdown",
   "metadata": {
    "id": "N2jvYls5GpQ8"
   },
   "source": [
    "Let us now fit the model. This will start training the model and with the help of the checkpoints, you'll be able to save the model at the end of each epoch.\n"
   ]
  },
  {
   "cell_type": "code",
   "execution_count": 63,
   "metadata": {
    "colab": {
     "base_uri": "https://localhost:8080/"
    },
    "executionInfo": {
     "elapsed": 1150066,
     "status": "ok",
     "timestamp": 1642935283640,
     "user": {
      "displayName": "Abhinav Goel",
      "photoUrl": "https://lh3.googleusercontent.com/a/default-user=s64",
      "userId": "11532605844347405676"
     },
     "user_tz": -480
    },
    "id": "XbAEMCrhGVmI",
    "outputId": "a6b7bf1c-29c9-43f5-d1c2-b6ab91b784be"
   },
   "outputs": [
    {
     "name": "stderr",
     "output_type": "stream",
     "text": [
      "/usr/local/lib/python3.7/dist-packages/ipykernel_launcher.py:3: UserWarning: `Model.fit_generator` is deprecated and will be removed in a future version. Please use `Model.fit`, which supports generators.\n",
      "  This is separate from the ipykernel package so we can avoid doing imports until\n",
      "/usr/local/lib/python3.7/dist-packages/ipykernel_launcher.py:13: DeprecationWarning:     `imread` is deprecated!\n",
      "    `imread` is deprecated in SciPy 1.0.0, and will be removed in 1.2.0.\n",
      "    Use ``imageio.imread`` instead.\n",
      "  del sys.path[0]\n",
      "/usr/local/lib/python3.7/dist-packages/ipykernel_launcher.py:5: DeprecationWarning:     `imresize` is deprecated!\n",
      "    `imresize` is deprecated in SciPy 1.0.0, and will be removed in 1.2.0.\n",
      "    Use ``skimage.transform.resize`` instead.\n",
      "  \"\"\"\n"
     ]
    },
    {
     "name": "stdout",
     "output_type": "stream",
     "text": [
      "Source path =  app/Project_data/train ; batch size = 32\n",
      "Epoch 1/30\n",
      "20/21 [===========================>..] - ETA: 1s - loss: 1.3358 - categorical_accuracy: 0.4094"
     ]
    },
    {
     "name": "stderr",
     "output_type": "stream",
     "text": [
      "/usr/local/lib/python3.7/dist-packages/ipykernel_launcher.py:34: DeprecationWarning:     `imread` is deprecated!\n",
      "    `imread` is deprecated in SciPy 1.0.0, and will be removed in 1.2.0.\n",
      "    Use ``imageio.imread`` instead.\n"
     ]
    },
    {
     "name": "stdout",
     "output_type": "stream",
     "text": [
      "21/21 [==============================] - ETA: 0s - loss: 1.3295 - categorical_accuracy: 0.4118Source path =  app/Project_data/val ; batch size = 32\n",
      "\n",
      "Epoch 00001: saving model to model_init_2022-01-2308_53_31.399787/model-00001-1.32947-0.41176-1.64521-0.23000.h5\n",
      "21/21 [==============================] - 42s 2s/step - loss: 1.3295 - categorical_accuracy: 0.4118 - val_loss: 1.6452 - val_categorical_accuracy: 0.2300 - lr: 0.0010\n",
      "Epoch 2/30\n",
      "21/21 [==============================] - ETA: 0s - loss: 0.8763 - categorical_accuracy: 0.6682\n",
      "Epoch 00002: saving model to model_init_2022-01-2308_53_31.399787/model-00002-0.87633-0.66817-1.59407-0.27000.h5\n",
      "21/21 [==============================] - 39s 2s/step - loss: 0.8763 - categorical_accuracy: 0.6682 - val_loss: 1.5941 - val_categorical_accuracy: 0.2700 - lr: 0.0010\n",
      "Epoch 3/30\n",
      "21/21 [==============================] - ETA: 0s - loss: 0.6088 - categorical_accuracy: 0.7632\n",
      "Epoch 00003: saving model to model_init_2022-01-2308_53_31.399787/model-00003-0.60883-0.76320-1.53438-0.31000.h5\n",
      "21/21 [==============================] - 39s 2s/step - loss: 0.6088 - categorical_accuracy: 0.7632 - val_loss: 1.5344 - val_categorical_accuracy: 0.3100 - lr: 0.0010\n",
      "Epoch 4/30\n",
      "21/21 [==============================] - ETA: 0s - loss: 0.3502 - categorical_accuracy: 0.8869\n",
      "Epoch 00004: saving model to model_init_2022-01-2308_53_31.399787/model-00004-0.35023-0.88688-1.64326-0.26000.h5\n",
      "21/21 [==============================] - 37s 2s/step - loss: 0.3502 - categorical_accuracy: 0.8869 - val_loss: 1.6433 - val_categorical_accuracy: 0.2600 - lr: 0.0010\n",
      "Epoch 5/30\n",
      "21/21 [==============================] - ETA: 0s - loss: 0.2021 - categorical_accuracy: 0.9291\n",
      "Epoch 00005: saving model to model_init_2022-01-2308_53_31.399787/model-00005-0.20208-0.92911-1.59236-0.27000.h5\n",
      "21/21 [==============================] - 39s 2s/step - loss: 0.2021 - categorical_accuracy: 0.9291 - val_loss: 1.5924 - val_categorical_accuracy: 0.2700 - lr: 0.0010\n",
      "Epoch 6/30\n",
      "21/21 [==============================] - ETA: 0s - loss: 0.1503 - categorical_accuracy: 0.9608\n",
      "Epoch 00006: saving model to model_init_2022-01-2308_53_31.399787/model-00006-0.15035-0.96078-1.54503-0.28000.h5\n",
      "21/21 [==============================] - 38s 2s/step - loss: 0.1503 - categorical_accuracy: 0.9608 - val_loss: 1.5450 - val_categorical_accuracy: 0.2800 - lr: 0.0010\n",
      "Epoch 7/30\n",
      "21/21 [==============================] - ETA: 0s - loss: 0.1180 - categorical_accuracy: 0.9623\n",
      "Epoch 00007: saving model to model_init_2022-01-2308_53_31.399787/model-00007-0.11797-0.96229-1.67931-0.33000.h5\n",
      "21/21 [==============================] - 38s 2s/step - loss: 0.1180 - categorical_accuracy: 0.9623 - val_loss: 1.6793 - val_categorical_accuracy: 0.3300 - lr: 0.0010\n",
      "Epoch 8/30\n",
      "21/21 [==============================] - ETA: 0s - loss: 0.0561 - categorical_accuracy: 0.9894\n",
      "Epoch 00008: saving model to model_init_2022-01-2308_53_31.399787/model-00008-0.05609-0.98944-1.08778-0.60000.h5\n",
      "21/21 [==============================] - 37s 2s/step - loss: 0.0561 - categorical_accuracy: 0.9894 - val_loss: 1.0878 - val_categorical_accuracy: 0.6000 - lr: 0.0010\n",
      "Epoch 9/30\n",
      "21/21 [==============================] - ETA: 0s - loss: 0.0756 - categorical_accuracy: 0.9759\n",
      "Epoch 00009: saving model to model_init_2022-01-2308_53_31.399787/model-00009-0.07560-0.97587-1.36861-0.49000.h5\n",
      "21/21 [==============================] - 39s 2s/step - loss: 0.0756 - categorical_accuracy: 0.9759 - val_loss: 1.3686 - val_categorical_accuracy: 0.4900 - lr: 0.0010\n",
      "Epoch 10/30\n",
      "21/21 [==============================] - ETA: 0s - loss: 0.0267 - categorical_accuracy: 0.9910\n",
      "Epoch 00010: saving model to model_init_2022-01-2308_53_31.399787/model-00010-0.02671-0.99095-1.70148-0.37000.h5\n",
      "21/21 [==============================] - 39s 2s/step - loss: 0.0267 - categorical_accuracy: 0.9910 - val_loss: 1.7015 - val_categorical_accuracy: 0.3700 - lr: 0.0010\n",
      "Epoch 11/30\n",
      "21/21 [==============================] - ETA: 0s - loss: 0.0373 - categorical_accuracy: 0.9879\n",
      "Epoch 00011: saving model to model_init_2022-01-2308_53_31.399787/model-00011-0.03734-0.98793-2.57450-0.31000.h5\n",
      "21/21 [==============================] - 40s 2s/step - loss: 0.0373 - categorical_accuracy: 0.9879 - val_loss: 2.5745 - val_categorical_accuracy: 0.3100 - lr: 0.0010\n",
      "Epoch 12/30\n",
      "21/21 [==============================] - ETA: 0s - loss: 0.1164 - categorical_accuracy: 0.9593\n",
      "Epoch 00012: saving model to model_init_2022-01-2308_53_31.399787/model-00012-0.11642-0.95928-1.33085-0.55000.h5\n",
      "21/21 [==============================] - 37s 2s/step - loss: 0.1164 - categorical_accuracy: 0.9593 - val_loss: 1.3309 - val_categorical_accuracy: 0.5500 - lr: 0.0010\n",
      "Epoch 13/30\n",
      "21/21 [==============================] - ETA: 0s - loss: 0.1411 - categorical_accuracy: 0.9472\n",
      "Epoch 00013: saving model to model_init_2022-01-2308_53_31.399787/model-00013-0.14115-0.94721-2.78488-0.36000.h5\n",
      "\n",
      "Epoch 00013: ReduceLROnPlateau reducing learning rate to 1.0000000474974514e-05.\n",
      "21/21 [==============================] - 38s 2s/step - loss: 0.1411 - categorical_accuracy: 0.9472 - val_loss: 2.7849 - val_categorical_accuracy: 0.3600 - lr: 0.0010\n",
      "Epoch 14/30\n",
      "21/21 [==============================] - ETA: 0s - loss: 0.1283 - categorical_accuracy: 0.9517\n",
      "Epoch 00014: saving model to model_init_2022-01-2308_53_31.399787/model-00014-0.12829-0.95173-2.28964-0.34000.h5\n",
      "21/21 [==============================] - 38s 2s/step - loss: 0.1283 - categorical_accuracy: 0.9517 - val_loss: 2.2896 - val_categorical_accuracy: 0.3400 - lr: 1.0000e-05\n",
      "Epoch 15/30\n",
      "21/21 [==============================] - ETA: 0s - loss: 0.1111 - categorical_accuracy: 0.9578\n",
      "Epoch 00015: saving model to model_init_2022-01-2308_53_31.399787/model-00015-0.11109-0.95777-1.96847-0.44000.h5\n",
      "21/21 [==============================] - 38s 2s/step - loss: 0.1111 - categorical_accuracy: 0.9578 - val_loss: 1.9685 - val_categorical_accuracy: 0.4400 - lr: 1.0000e-05\n",
      "Epoch 16/30\n",
      "21/21 [==============================] - ETA: 0s - loss: 0.0888 - categorical_accuracy: 0.9653\n",
      "Epoch 00016: saving model to model_init_2022-01-2308_53_31.399787/model-00016-0.08882-0.96531-1.38866-0.57000.h5\n",
      "21/21 [==============================] - 40s 2s/step - loss: 0.0888 - categorical_accuracy: 0.9653 - val_loss: 1.3887 - val_categorical_accuracy: 0.5700 - lr: 1.0000e-05\n",
      "Epoch 17/30\n",
      "21/21 [==============================] - ETA: 0s - loss: 0.0629 - categorical_accuracy: 0.9804\n",
      "Epoch 00017: saving model to model_init_2022-01-2308_53_31.399787/model-00017-0.06292-0.98039-1.22580-0.61000.h5\n",
      "21/21 [==============================] - 38s 2s/step - loss: 0.0629 - categorical_accuracy: 0.9804 - val_loss: 1.2258 - val_categorical_accuracy: 0.6100 - lr: 1.0000e-05\n",
      "Epoch 18/30\n",
      "21/21 [==============================] - ETA: 0s - loss: 0.0623 - categorical_accuracy: 0.9804\n",
      "Epoch 00018: saving model to model_init_2022-01-2308_53_31.399787/model-00018-0.06235-0.98039-1.11424-0.61000.h5\n",
      "21/21 [==============================] - 38s 2s/step - loss: 0.0623 - categorical_accuracy: 0.9804 - val_loss: 1.1142 - val_categorical_accuracy: 0.6100 - lr: 1.0000e-05\n",
      "Epoch 19/30\n",
      "21/21 [==============================] - ETA: 0s - loss: 0.0655 - categorical_accuracy: 0.9744\n",
      "Epoch 00019: saving model to model_init_2022-01-2308_53_31.399787/model-00019-0.06551-0.97436-1.18663-0.61000.h5\n",
      "21/21 [==============================] - 38s 2s/step - loss: 0.0655 - categorical_accuracy: 0.9744 - val_loss: 1.1866 - val_categorical_accuracy: 0.6100 - lr: 1.0000e-05\n",
      "Epoch 20/30\n",
      "21/21 [==============================] - ETA: 0s - loss: 0.0618 - categorical_accuracy: 0.9744\n",
      "Epoch 00020: saving model to model_init_2022-01-2308_53_31.399787/model-00020-0.06177-0.97436-1.17028-0.63000.h5\n",
      "21/21 [==============================] - 36s 2s/step - loss: 0.0618 - categorical_accuracy: 0.9744 - val_loss: 1.1703 - val_categorical_accuracy: 0.6300 - lr: 1.0000e-05\n",
      "Epoch 21/30\n",
      "21/21 [==============================] - ETA: 0s - loss: 0.0485 - categorical_accuracy: 0.9804\n",
      "Epoch 00021: saving model to model_init_2022-01-2308_53_31.399787/model-00021-0.04849-0.98039-1.23097-0.62000.h5\n",
      "\n",
      "Epoch 00021: ReduceLROnPlateau reducing learning rate to 1.0000000656873453e-07.\n",
      "21/21 [==============================] - 38s 2s/step - loss: 0.0485 - categorical_accuracy: 0.9804 - val_loss: 1.2310 - val_categorical_accuracy: 0.6200 - lr: 1.0000e-05\n",
      "Epoch 22/30\n",
      "21/21 [==============================] - ETA: 0s - loss: 0.0385 - categorical_accuracy: 0.9879\n",
      "Epoch 00022: saving model to model_init_2022-01-2308_53_31.399787/model-00022-0.03848-0.98793-1.25072-0.64000.h5\n",
      "21/21 [==============================] - 38s 2s/step - loss: 0.0385 - categorical_accuracy: 0.9879 - val_loss: 1.2507 - val_categorical_accuracy: 0.6400 - lr: 1.0000e-07\n",
      "Epoch 23/30\n",
      "21/21 [==============================] - ETA: 0s - loss: 0.0424 - categorical_accuracy: 0.9849\n",
      "Epoch 00023: saving model to model_init_2022-01-2308_53_31.399787/model-00023-0.04241-0.98492-1.51876-0.60000.h5\n",
      "21/21 [==============================] - 38s 2s/step - loss: 0.0424 - categorical_accuracy: 0.9849 - val_loss: 1.5188 - val_categorical_accuracy: 0.6000 - lr: 1.0000e-07\n",
      "Epoch 24/30\n",
      "21/21 [==============================] - ETA: 0s - loss: 0.0390 - categorical_accuracy: 0.9894\n",
      "Epoch 00024: saving model to model_init_2022-01-2308_53_31.399787/model-00024-0.03899-0.98944-1.33034-0.64000.h5\n",
      "21/21 [==============================] - 37s 2s/step - loss: 0.0390 - categorical_accuracy: 0.9894 - val_loss: 1.3303 - val_categorical_accuracy: 0.6400 - lr: 1.0000e-07\n",
      "Epoch 25/30\n",
      "21/21 [==============================] - ETA: 0s - loss: 0.0383 - categorical_accuracy: 0.9910\n",
      "Epoch 00025: saving model to model_init_2022-01-2308_53_31.399787/model-00025-0.03833-0.99095-1.40308-0.63000.h5\n",
      "21/21 [==============================] - 38s 2s/step - loss: 0.0383 - categorical_accuracy: 0.9910 - val_loss: 1.4031 - val_categorical_accuracy: 0.6300 - lr: 1.0000e-07\n",
      "Epoch 26/30\n",
      "21/21 [==============================] - ETA: 0s - loss: 0.0551 - categorical_accuracy: 0.9834\n",
      "Epoch 00026: saving model to model_init_2022-01-2308_53_31.399787/model-00026-0.05506-0.98341-1.19959-0.69000.h5\n",
      "21/21 [==============================] - 39s 2s/step - loss: 0.0551 - categorical_accuracy: 0.9834 - val_loss: 1.1996 - val_categorical_accuracy: 0.6900 - lr: 1.0000e-07\n",
      "Epoch 27/30\n",
      "21/21 [==============================] - ETA: 0s - loss: 0.0393 - categorical_accuracy: 0.9879\n",
      "Epoch 00027: saving model to model_init_2022-01-2308_53_31.399787/model-00027-0.03927-0.98793-1.63580-0.63000.h5\n",
      "21/21 [==============================] - 38s 2s/step - loss: 0.0393 - categorical_accuracy: 0.9879 - val_loss: 1.6358 - val_categorical_accuracy: 0.6300 - lr: 1.0000e-07\n",
      "Epoch 28/30\n",
      "21/21 [==============================] - ETA: 0s - loss: 0.0502 - categorical_accuracy: 0.9834\n",
      "Epoch 00028: saving model to model_init_2022-01-2308_53_31.399787/model-00028-0.05022-0.98341-1.57825-0.63000.h5\n",
      "21/21 [==============================] - 37s 2s/step - loss: 0.0502 - categorical_accuracy: 0.9834 - val_loss: 1.5782 - val_categorical_accuracy: 0.6300 - lr: 1.0000e-07\n",
      "Epoch 29/30\n",
      "21/21 [==============================] - ETA: 0s - loss: 0.0515 - categorical_accuracy: 0.9819\n",
      "Epoch 00029: saving model to model_init_2022-01-2308_53_31.399787/model-00029-0.05149-0.98190-1.52871-0.64000.h5\n",
      "\n",
      "Epoch 00029: ReduceLROnPlateau reducing learning rate to 1.000000082740371e-09.\n",
      "21/21 [==============================] - 39s 2s/step - loss: 0.0515 - categorical_accuracy: 0.9819 - val_loss: 1.5287 - val_categorical_accuracy: 0.6400 - lr: 1.0000e-07\n",
      "Epoch 30/30\n",
      "21/21 [==============================] - ETA: 0s - loss: 0.0455 - categorical_accuracy: 0.9894\n",
      "Epoch 00030: saving model to model_init_2022-01-2308_53_31.399787/model-00030-0.04551-0.98944-1.61290-0.63000.h5\n",
      "21/21 [==============================] - 38s 2s/step - loss: 0.0455 - categorical_accuracy: 0.9894 - val_loss: 1.6129 - val_categorical_accuracy: 0.6300 - lr: 1.0000e-09\n"
     ]
    }
   ],
   "source": [
    "history_modelGRU = model.fit_generator(train_generator, steps_per_epoch=steps_per_epoch, epochs=num_epochs, verbose=1, \n",
    "                    callbacks=callbacks_list, validation_data=val_generator, \n",
    "                    validation_steps=validation_steps, class_weight=None, workers=1, initial_epoch=0)"
   ]
  },
  {
   "cell_type": "code",
   "execution_count": null,
   "metadata": {
    "id": "M2wqqHSKG9b-"
   },
   "outputs": [],
   "source": [
    "# function to plot the training/validation accuracies/losses.\n",
    "\n",
    "def plot(history):\n",
    "    fig, axes = plt.subplots(nrows=1, ncols=2, figsize=(15,4))\n",
    "    axes[0].plot(history.history['loss'])   \n",
    "    axes[0].plot(history.history['val_loss'])\n",
    "    axes[0].legend(['loss','val_loss'])\n",
    "\n",
    "    axes[1].plot(history.history['categorical_accuracy'])   \n",
    "    axes[1].plot(history.history['val_categorical_accuracy'])\n",
    "    axes[1].legend(['categorical_accuracy','val_categorical_accuracy'])\n",
    "    "
   ]
  },
  {
   "cell_type": "markdown",
   "metadata": {
    "id": "UdbT-mtOHEsw"
   },
   "source": [
    "Plotting model to see Loss and Accuracy against Train and Validation Data"
   ]
  },
  {
   "cell_type": "code",
   "execution_count": 64,
   "metadata": {
    "colab": {
     "base_uri": "https://localhost:8080/",
     "height": 265
    },
    "executionInfo": {
     "elapsed": 1081,
     "status": "ok",
     "timestamp": 1642936565333,
     "user": {
      "displayName": "Abhinav Goel",
      "photoUrl": "https://lh3.googleusercontent.com/a/default-user=s64",
      "userId": "11532605844347405676"
     },
     "user_tz": -480
    },
    "id": "irJXBk8uphUh",
    "outputId": "99769ead-b313-49b7-f01b-ec3f17b5b46b"
   },
   "outputs": [
    {
     "data": {
      "image/png": "[encoded data removed]",
      "text/plain": [
       "<Figure size 1080x288 with 2 Axes>"
      ]
     },
     "metadata": {
      "needs_background": "light"
     },
     "output_type": "display_data"
    }
   ],
   "source": [
    "plot(history_modelGRU)"
   ]
  },
  {
   "cell_type": "markdown",
   "metadata": {
    "id": "htyvUOP6DeaX"
   },
   "source": [
    "# Model 2\n",
    "\n",
    "Defining 2nd model using Time distributed Cov2D and LSTM"
   ]
  },
  {
   "cell_type": "code",
   "execution_count": 41,
   "metadata": {
    "colab": {
     "base_uri": "https://localhost:8080/"
    },
    "executionInfo": {
     "elapsed": 2962,
     "status": "ok",
     "timestamp": 1642928147907,
     "user": {
      "displayName": "Abhinav Goel",
      "photoUrl": "https://lh3.googleusercontent.com/a/default-user=s64",
      "userId": "11532605844347405676"
     },
     "user_tz": -480
    },
    "id": "e6jYmx2aDhGW",
    "outputId": "a7ec16f6-4c4a-4570-f3b4-fee813d9186a"
   },
   "outputs": [
    {
     "name": "stdout",
     "output_type": "stream",
     "text": [
      "Model: \"sequential\"\n",
      "_________________________________________________________________\n",
      " Layer (type)                Output Shape              Param #   \n",
      "=================================================================\n",
      " time_distributed (TimeDistr  (None, 10, 60, 60, 16)   448       \n",
      " ibuted)                                                         \n",
      "                                                                 \n",
      " time_distributed_1 (TimeDis  (None, 10, 60, 60, 16)   64        \n",
      " tributed)                                                       \n",
      "                                                                 \n",
      " time_distributed_2 (TimeDis  (None, 10, 30, 30, 16)   0         \n",
      " tributed)                                                       \n",
      "                                                                 \n",
      " time_distributed_3 (TimeDis  (None, 10, 30, 30, 32)   4640      \n",
      " tributed)                                                       \n",
      "                                                                 \n",
      " time_distributed_4 (TimeDis  (None, 10, 30, 30, 32)   128       \n",
      " tributed)                                                       \n",
      "                                                                 \n",
      " time_distributed_5 (TimeDis  (None, 10, 15, 15, 32)   0         \n",
      " tributed)                                                       \n",
      "                                                                 \n",
      " time_distributed_6 (TimeDis  (None, 10, 15, 15, 64)   18496     \n",
      " tributed)                                                       \n",
      "                                                                 \n",
      " time_distributed_7 (TimeDis  (None, 10, 15, 15, 64)   256       \n",
      " tributed)                                                       \n",
      "                                                                 \n",
      " time_distributed_8 (TimeDis  (None, 10, 7, 7, 64)     0         \n",
      " tributed)                                                       \n",
      "                                                                 \n",
      " time_distributed_9 (TimeDis  (None, 10, 7, 7, 128)    32896     \n",
      " tributed)                                                       \n",
      "                                                                 \n",
      " time_distributed_10 (TimeDi  (None, 10, 7, 7, 128)    512       \n",
      " stributed)                                                      \n",
      "                                                                 \n",
      " time_distributed_11 (TimeDi  (None, 10, 3, 3, 128)    0         \n",
      " stributed)                                                      \n",
      "                                                                 \n",
      " time_distributed_12 (TimeDi  (None, 10, 3, 3, 256)    131328    \n",
      " stributed)                                                      \n",
      "                                                                 \n",
      " time_distributed_13 (TimeDi  (None, 10, 3, 3, 256)    1024      \n",
      " stributed)                                                      \n",
      "                                                                 \n",
      " time_distributed_14 (TimeDi  (None, 10, 1, 1, 256)    0         \n",
      " stributed)                                                      \n",
      "                                                                 \n",
      " dropout (Dropout)           (None, 10, 1, 1, 256)     0         \n",
      "                                                                 \n",
      " time_distributed_15 (TimeDi  (None, 10, 256)          0         \n",
      " stributed)                                                      \n",
      "                                                                 \n",
      " lstm (LSTM)                 (None, 64)                82176     \n",
      "                                                                 \n",
      " dense (Dense)               (None, 128)               8320      \n",
      "                                                                 \n",
      " dropout_1 (Dropout)         (None, 128)               0         \n",
      "                                                                 \n",
      " dense_1 (Dense)             (None, 64)                8256      \n",
      "                                                                 \n",
      " dropout_2 (Dropout)         (None, 64)                0         \n",
      "                                                                 \n",
      " dense_2 (Dense)             (None, 5)                 325       \n",
      "                                                                 \n",
      "=================================================================\n",
      "Total params: 288,869\n",
      "Trainable params: 287,877\n",
      "Non-trainable params: 992\n",
      "_________________________________________________________________\n",
      "None\n"
     ]
    }
   ],
   "source": [
    "#write your model here\n",
    "nb_featuremap = [16,32,64,128,256]\n",
    "nb_dense = [128,64,5]\n",
    "nb_classes = 5\n",
    "# Input\n",
    "input_shape=(frames,rows,cols,channel)\n",
    "\n",
    "model_LSTM = Sequential()\n",
    "\n",
    "model_LSTM.add(TimeDistributed(Conv2D(nb_featuremap[0], (3, 3), strides=(2, 2),activation='relu', padding='same'), input_shape=input_shape))\n",
    "model_LSTM.add(TimeDistributed(BatchNormalization()))\n",
    "model_LSTM.add(TimeDistributed(MaxPooling2D((2, 2), strides=(2, 2))))\n",
    "\n",
    "model_LSTM.add(TimeDistributed(Conv2D(nb_featuremap[1], (3,3),padding='same', activation='relu')))\n",
    "model_LSTM.add(TimeDistributed(BatchNormalization()))\n",
    "model_LSTM.add(TimeDistributed(MaxPooling2D((2, 2), strides=(2, 2))))\n",
    "\n",
    "model_LSTM.add(TimeDistributed(Conv2D(nb_featuremap[2], (3,3),padding='same', activation='relu')))\n",
    "model_LSTM.add(TimeDistributed(BatchNormalization()))\n",
    "model_LSTM.add(TimeDistributed(MaxPooling2D((2, 2), strides=(2, 2))))\n",
    "\n",
    "model_LSTM.add(TimeDistributed(Conv2D(nb_featuremap[3], (2,2),padding='same', activation='relu')))\n",
    "model_LSTM.add(TimeDistributed(BatchNormalization()))\n",
    "model_LSTM.add(TimeDistributed(MaxPooling2D((2, 2), strides=(2, 2))))\n",
    "\n",
    "model_LSTM.add(TimeDistributed(Conv2D(nb_featuremap[4], (2,2),padding='same', activation='relu')))\n",
    "model_LSTM.add(TimeDistributed(BatchNormalization()))\n",
    "model_LSTM.add(TimeDistributed(MaxPooling2D((2, 2), strides=(2, 2))))\n",
    "\n",
    "model_LSTM.add(Dropout(0.25))\n",
    "\n",
    "model_LSTM.add(TimeDistributed(Flatten()))\n",
    "\n",
    "## using LSTM as the RNN model along with softmax as our last layer.\n",
    "model_LSTM.add(LSTM(64))\n",
    "model_LSTM.add(Dense(nb_dense[0], activation='relu'))\n",
    "model_LSTM.add(Dropout(0.25))\n",
    "model_LSTM.add(Dense(nb_dense[1], activation='relu'))\n",
    "model_LSTM.add(Dropout(0.25))\n",
    "\n",
    "model_LSTM.add(Dense(nb_classes, activation='softmax')) # using Softmax as last layer\n",
    "\n",
    "from tensorflow.keras.optimizers import Adam\n",
    "\n",
    "optimiser =Adam(0.001) #write your optimizer\n",
    "model_LSTM.compile(optimizer=optimiser, loss='categorical_crossentropy', metrics=['categorical_accuracy'])\n",
    "print (model_LSTM.summary())"
   ]
  },
  {
   "cell_type": "markdown",
   "metadata": {
    "id": "LAGnCDbwH-ho"
   },
   "source": [
    "The steps_per_epoch and validation_steps are used by fit_generator to decide the number of next() calls it need to make."
   ]
  },
  {
   "cell_type": "code",
   "execution_count": 42,
   "metadata": {
    "executionInfo": {
     "elapsed": 279,
     "status": "ok",
     "timestamp": 1642928203318,
     "user": {
      "displayName": "Abhinav Goel",
      "photoUrl": "https://lh3.googleusercontent.com/a/default-user=s64",
      "userId": "11532605844347405676"
     },
     "user_tz": -480
    },
    "id": "dLZx7cdSJkG5"
   },
   "outputs": [],
   "source": [
    "# creating the `train_generator` and the `val_generator` which will be used in `.fit_generator`\n",
    "batch_size = 32\n",
    "train_generator = generator(train_path, train_doc, batch_size)\n",
    "val_generator = generator(val_path, val_doc, batch_size)\n",
    "if (num_train_sequences%batch_size) == 0:\n",
    "    steps_per_epoch = int(num_train_sequences/batch_size)\n",
    "else:\n",
    "    steps_per_epoch = (num_train_sequences//batch_size) + 1\n",
    "\n",
    "if (num_val_sequences%batch_size) == 0:\n",
    "    validation_steps = int(num_val_sequences/batch_size)\n",
    "else:\n",
    "    validation_steps = (num_val_sequences//batch_size) + 1\n",
    "\n",
    "num_epochs = 20"
   ]
  },
  {
   "cell_type": "markdown",
   "metadata": {
    "id": "aCn2-Z7eIEVK"
   },
   "source": [
    "Let us now fit the model. This will start training the model and with the help of the checkpoints, you'll be able to save the model at the end of each epoch"
   ]
  },
  {
   "cell_type": "code",
   "execution_count": 44,
   "metadata": {
    "colab": {
     "base_uri": "https://localhost:8080/"
    },
    "executionInfo": {
     "elapsed": 1930507,
     "status": "ok",
     "timestamp": 1642930260343,
     "user": {
      "displayName": "Abhinav Goel",
      "photoUrl": "https://lh3.googleusercontent.com/a/default-user=s64",
      "userId": "11532605844347405676"
     },
     "user_tz": -480
    },
    "id": "4Pp911duJ0Fc",
    "outputId": "3875c0e4-b738-47a1-893b-ca7a25fde419"
   },
   "outputs": [
    {
     "name": "stderr",
     "output_type": "stream",
     "text": [
      "/usr/local/lib/python3.7/dist-packages/ipykernel_launcher.py:3: UserWarning: `Model.fit_generator` is deprecated and will be removed in a future version. Please use `Model.fit`, which supports generators.\n",
      "  This is separate from the ipykernel package so we can avoid doing imports until\n",
      "/usr/local/lib/python3.7/dist-packages/ipykernel_launcher.py:13: DeprecationWarning:     `imread` is deprecated!\n",
      "    `imread` is deprecated in SciPy 1.0.0, and will be removed in 1.2.0.\n",
      "    Use ``imageio.imread`` instead.\n",
      "  del sys.path[0]\n"
     ]
    },
    {
     "name": "stdout",
     "output_type": "stream",
     "text": [
      "Source path =  app/Project_data/train ; batch size = 32\n"
     ]
    },
    {
     "name": "stderr",
     "output_type": "stream",
     "text": [
      "/usr/local/lib/python3.7/dist-packages/ipykernel_launcher.py:5: DeprecationWarning:     `imresize` is deprecated!\n",
      "    `imresize` is deprecated in SciPy 1.0.0, and will be removed in 1.2.0.\n",
      "    Use ``skimage.transform.resize`` instead.\n",
      "  \"\"\"\n"
     ]
    },
    {
     "name": "stdout",
     "output_type": "stream",
     "text": [
      "Epoch 1/20\n",
      "20/21 [===========================>..] - ETA: 50s - loss: 1.5509 - categorical_accuracy: 0.2844 "
     ]
    },
    {
     "name": "stderr",
     "output_type": "stream",
     "text": [
      "/usr/local/lib/python3.7/dist-packages/ipykernel_launcher.py:34: DeprecationWarning:     `imread` is deprecated!\n",
      "    `imread` is deprecated in SciPy 1.0.0, and will be removed in 1.2.0.\n",
      "    Use ``imageio.imread`` instead.\n"
     ]
    },
    {
     "name": "stdout",
     "output_type": "stream",
     "text": [
      "21/21 [==============================] - ETA: 0s - loss: 1.5512 - categorical_accuracy: 0.2851 Source path =  app/Project_data/val ; batch size = 32\n",
      "\n",
      "Epoch 00001: saving model to model_init_2022-01-2308_53_31.399787/model-00001-1.55121-0.28507-1.60847-0.21000.h5\n",
      "21/21 [==============================] - 1157s 57s/step - loss: 1.5512 - categorical_accuracy: 0.2851 - val_loss: 1.6085 - val_categorical_accuracy: 0.2100 - lr: 0.0010\n",
      "Epoch 2/20\n",
      "21/21 [==============================] - ETA: 0s - loss: 1.3159 - categorical_accuracy: 0.4329\n",
      "Epoch 00002: saving model to model_init_2022-01-2308_53_31.399787/model-00002-1.31593-0.43288-1.72397-0.20000.h5\n",
      "21/21 [==============================] - 38s 2s/step - loss: 1.3159 - categorical_accuracy: 0.4329 - val_loss: 1.7240 - val_categorical_accuracy: 0.2000 - lr: 0.0010\n",
      "Epoch 3/20\n",
      "21/21 [==============================] - ETA: 0s - loss: 1.0869 - categorical_accuracy: 0.5611\n",
      "Epoch 00003: saving model to model_init_2022-01-2308_53_31.399787/model-00003-1.08687-0.56109-1.79131-0.23000.h5\n",
      "21/21 [==============================] - 38s 2s/step - loss: 1.0869 - categorical_accuracy: 0.5611 - val_loss: 1.7913 - val_categorical_accuracy: 0.2300 - lr: 0.0010\n",
      "Epoch 4/20\n",
      "21/21 [==============================] - ETA: 0s - loss: 0.8424 - categorical_accuracy: 0.6727\n",
      "Epoch 00004: saving model to model_init_2022-01-2308_53_31.399787/model-00004-0.84238-0.67270-1.82129-0.20000.h5\n",
      "21/21 [==============================] - 36s 2s/step - loss: 0.8424 - categorical_accuracy: 0.6727 - val_loss: 1.8213 - val_categorical_accuracy: 0.2000 - lr: 0.0010\n",
      "Epoch 5/20\n",
      "21/21 [==============================] - ETA: 0s - loss: 0.6776 - categorical_accuracy: 0.7451\n",
      "Epoch 00005: saving model to model_init_2022-01-2308_53_31.399787/model-00005-0.67764-0.74510-2.43379-0.21000.h5\n",
      "21/21 [==============================] - 38s 2s/step - loss: 0.6776 - categorical_accuracy: 0.7451 - val_loss: 2.4338 - val_categorical_accuracy: 0.2100 - lr: 0.0010\n",
      "Epoch 6/20\n",
      "21/21 [==============================] - ETA: 0s - loss: 0.6107 - categorical_accuracy: 0.7617\n",
      "Epoch 00006: saving model to model_init_2022-01-2308_53_31.399787/model-00006-0.61069-0.76169-2.69634-0.20000.h5\n",
      "\n",
      "Epoch 00006: ReduceLROnPlateau reducing learning rate to 1.0000000474974514e-05.\n",
      "21/21 [==============================] - 38s 2s/step - loss: 0.6107 - categorical_accuracy: 0.7617 - val_loss: 2.6963 - val_categorical_accuracy: 0.2000 - lr: 0.0010\n",
      "Epoch 7/20\n",
      "21/21 [==============================] - ETA: 0s - loss: 0.5598 - categorical_accuracy: 0.7934\n",
      "Epoch 00007: saving model to model_init_2022-01-2308_53_31.399787/model-00007-0.55978-0.79336-2.95803-0.17000.h5\n",
      "21/21 [==============================] - 38s 2s/step - loss: 0.5598 - categorical_accuracy: 0.7934 - val_loss: 2.9580 - val_categorical_accuracy: 0.1700 - lr: 1.0000e-05\n",
      "Epoch 8/20\n",
      "21/21 [==============================] - ETA: 0s - loss: 0.5137 - categorical_accuracy: 0.8160\n",
      "Epoch 00008: saving model to model_init_2022-01-2308_53_31.399787/model-00008-0.51374-0.81599-2.84909-0.21000.h5\n",
      "21/21 [==============================] - 36s 2s/step - loss: 0.5137 - categorical_accuracy: 0.8160 - val_loss: 2.8491 - val_categorical_accuracy: 0.2100 - lr: 1.0000e-05\n",
      "Epoch 9/20\n",
      "21/21 [==============================] - ETA: 0s - loss: 0.4804 - categorical_accuracy: 0.8054\n",
      "Epoch 00009: saving model to model_init_2022-01-2308_53_31.399787/model-00009-0.48038-0.80543-2.85443-0.21000.h5\n",
      "21/21 [==============================] - 38s 2s/step - loss: 0.4804 - categorical_accuracy: 0.8054 - val_loss: 2.8544 - val_categorical_accuracy: 0.2100 - lr: 1.0000e-05\n",
      "Epoch 10/20\n",
      "21/21 [==============================] - ETA: 0s - loss: 0.4940 - categorical_accuracy: 0.8054\n",
      "Epoch 00010: saving model to model_init_2022-01-2308_53_31.399787/model-00010-0.49400-0.80543-2.81663-0.20000.h5\n",
      "21/21 [==============================] - 38s 2s/step - loss: 0.4940 - categorical_accuracy: 0.8054 - val_loss: 2.8166 - val_categorical_accuracy: 0.2000 - lr: 1.0000e-05\n",
      "Epoch 11/20\n",
      "21/21 [==============================] - ETA: 0s - loss: 0.4623 - categorical_accuracy: 0.8250\n",
      "Epoch 00011: saving model to model_init_2022-01-2308_53_31.399787/model-00011-0.46232-0.82504-2.79578-0.22000.h5\n",
      "21/21 [==============================] - 37s 2s/step - loss: 0.4623 - categorical_accuracy: 0.8250 - val_loss: 2.7958 - val_categorical_accuracy: 0.2200 - lr: 1.0000e-05\n",
      "Epoch 12/20\n",
      "21/21 [==============================] - ETA: 0s - loss: 0.4420 - categorical_accuracy: 0.8371\n",
      "Epoch 00012: saving model to model_init_2022-01-2308_53_31.399787/model-00012-0.44198-0.83710-2.73950-0.22000.h5\n",
      "21/21 [==============================] - 36s 2s/step - loss: 0.4420 - categorical_accuracy: 0.8371 - val_loss: 2.7395 - val_categorical_accuracy: 0.2200 - lr: 1.0000e-05\n",
      "Epoch 13/20\n",
      "21/21 [==============================] - ETA: 0s - loss: 0.4490 - categorical_accuracy: 0.8190\n",
      "Epoch 00013: saving model to model_init_2022-01-2308_53_31.399787/model-00013-0.44904-0.81900-2.72515-0.21000.h5\n",
      "21/21 [==============================] - 38s 2s/step - loss: 0.4490 - categorical_accuracy: 0.8190 - val_loss: 2.7251 - val_categorical_accuracy: 0.2100 - lr: 1.0000e-05\n",
      "Epoch 14/20\n",
      "21/21 [==============================] - ETA: 0s - loss: 0.4117 - categorical_accuracy: 0.8477\n",
      "Epoch 00014: saving model to model_init_2022-01-2308_53_31.399787/model-00014-0.41174-0.84766-2.59392-0.25000.h5\n",
      "\n",
      "Epoch 00014: ReduceLROnPlateau reducing learning rate to 1.0000000656873453e-07.\n",
      "21/21 [==============================] - 38s 2s/step - loss: 0.4117 - categorical_accuracy: 0.8477 - val_loss: 2.5939 - val_categorical_accuracy: 0.2500 - lr: 1.0000e-05\n",
      "Epoch 15/20\n",
      "21/21 [==============================] - ETA: 0s - loss: 0.4060 - categorical_accuracy: 0.8582\n",
      "Epoch 00015: saving model to model_init_2022-01-2308_53_31.399787/model-00015-0.40598-0.85822-2.71482-0.17000.h5\n",
      "21/21 [==============================] - 38s 2s/step - loss: 0.4060 - categorical_accuracy: 0.8582 - val_loss: 2.7148 - val_categorical_accuracy: 0.1700 - lr: 1.0000e-07\n",
      "Epoch 16/20\n",
      "21/21 [==============================] - ETA: 0s - loss: 0.4037 - categorical_accuracy: 0.8552\n",
      "Epoch 00016: saving model to model_init_2022-01-2308_53_31.399787/model-00016-0.40371-0.85520-2.68110-0.22000.h5\n",
      "21/21 [==============================] - 36s 2s/step - loss: 0.4037 - categorical_accuracy: 0.8552 - val_loss: 2.6811 - val_categorical_accuracy: 0.2200 - lr: 1.0000e-07\n",
      "Epoch 17/20\n",
      "21/21 [==============================] - ETA: 0s - loss: 0.4097 - categorical_accuracy: 0.8658\n",
      "Epoch 00017: saving model to model_init_2022-01-2308_53_31.399787/model-00017-0.40974-0.86576-2.60112-0.22000.h5\n",
      "21/21 [==============================] - 38s 2s/step - loss: 0.4097 - categorical_accuracy: 0.8658 - val_loss: 2.6011 - val_categorical_accuracy: 0.2200 - lr: 1.0000e-07\n",
      "Epoch 18/20\n",
      "21/21 [==============================] - ETA: 0s - loss: 0.4172 - categorical_accuracy: 0.8688\n",
      "Epoch 00018: saving model to model_init_2022-01-2308_53_31.399787/model-00018-0.41716-0.86878-2.67073-0.23000.h5\n",
      "21/21 [==============================] - 38s 2s/step - loss: 0.4172 - categorical_accuracy: 0.8688 - val_loss: 2.6707 - val_categorical_accuracy: 0.2300 - lr: 1.0000e-07\n",
      "Epoch 19/20\n",
      "21/21 [==============================] - ETA: 0s - loss: 0.3893 - categorical_accuracy: 0.8733\n",
      "Epoch 00019: saving model to model_init_2022-01-2308_53_31.399787/model-00019-0.38934-0.87330-2.52489-0.23000.h5\n",
      "21/21 [==============================] - 38s 2s/step - loss: 0.3893 - categorical_accuracy: 0.8733 - val_loss: 2.5249 - val_categorical_accuracy: 0.2300 - lr: 1.0000e-07\n",
      "Epoch 20/20\n",
      "21/21 [==============================] - ETA: 0s - loss: 0.4245 - categorical_accuracy: 0.8401\n",
      "Epoch 00020: saving model to model_init_2022-01-2308_53_31.399787/model-00020-0.42451-0.84012-2.47629-0.25000.h5\n",
      "21/21 [==============================] - 37s 2s/step - loss: 0.4245 - categorical_accuracy: 0.8401 - val_loss: 2.4763 - val_categorical_accuracy: 0.2500 - lr: 1.0000e-07\n"
     ]
    }
   ],
   "source": [
    "history_modelLSTM = model_LSTM.fit_generator(train_generator, steps_per_epoch=steps_per_epoch, epochs=num_epochs, verbose=1, \n",
    "                    callbacks=callbacks_list, validation_data=val_generator, \n",
    "                    validation_steps=validation_steps, class_weight=None, workers=1, initial_epoch=0)"
   ]
  },
  {
   "cell_type": "markdown",
   "metadata": {
    "id": "-jD5hMsXIJNM"
   },
   "source": [
    "Plotting LSTM model"
   ]
  },
  {
   "cell_type": "code",
   "execution_count": 46,
   "metadata": {
    "colab": {
     "base_uri": "https://localhost:8080/",
     "height": 267
    },
    "executionInfo": {
     "elapsed": 1087,
     "status": "ok",
     "timestamp": 1642930588265,
     "user": {
      "displayName": "Abhinav Goel",
      "photoUrl": "https://lh3.googleusercontent.com/a/default-user=s64",
      "userId": "11532605844347405676"
     },
     "user_tz": -480
    },
    "id": "e6Ja3VJZSnWQ",
    "outputId": "f79607e0-c0b7-4f8e-9b1a-dcf85b0b6d5a"
   },
   "outputs": [
    {
     "data": {
      "image/png": "[encoded data removed]",
      "text/plain": [
       "<Figure size 1080x288 with 2 Axes>"
      ]
     },
     "metadata": {
      "needs_background": "light"
     },
     "output_type": "display_data"
    }
   ],
   "source": [
    "plot(history_modelLSTM)"
   ]
  },
  {
   "cell_type": "markdown",
   "metadata": {
    "id": "xbY5I2SYTQlE"
   },
   "source": [
    "# Model 3\n",
    "\n",
    "Trying another model using CNN + LSTM"
   ]
  },
  {
   "cell_type": "code",
   "execution_count": 65,
   "metadata": {
    "colab": {
     "base_uri": "https://localhost:8080/"
    },
    "executionInfo": {
     "elapsed": 782,
     "status": "ok",
     "timestamp": 1642936603387,
     "user": {
      "displayName": "Abhinav Goel",
      "photoUrl": "https://lh3.googleusercontent.com/a/default-user=s64",
      "userId": "11532605844347405676"
     },
     "user_tz": -480
    },
    "id": "fcWcuRfcTTt2",
    "outputId": "302e3fb9-aad1-44c5-a3b0-30c160ae1440"
   },
   "outputs": [
    {
     "name": "stdout",
     "output_type": "stream",
     "text": [
      "Model: \"sequential_4\"\n",
      "_________________________________________________________________\n",
      " Layer (type)                Output Shape              Param #   \n",
      "=================================================================\n",
      " time_distributed_50 (TimeDi  (None, 10, 60, 60, 16)   448       \n",
      " stributed)                                                      \n",
      "                                                                 \n",
      " time_distributed_51 (TimeDi  (None, 10, 60, 60, 16)   64        \n",
      " stributed)                                                      \n",
      "                                                                 \n",
      " time_distributed_52 (TimeDi  (None, 10, 30, 30, 16)   0         \n",
      " stributed)                                                      \n",
      "                                                                 \n",
      " time_distributed_53 (TimeDi  (None, 10, 30, 30, 32)   4640      \n",
      " stributed)                                                      \n",
      "                                                                 \n",
      " time_distributed_54 (TimeDi  (None, 10, 30, 30, 32)   128       \n",
      " stributed)                                                      \n",
      "                                                                 \n",
      " time_distributed_55 (TimeDi  (None, 10, 15, 15, 32)   0         \n",
      " stributed)                                                      \n",
      "                                                                 \n",
      " time_distributed_56 (TimeDi  (None, 10, 15, 15, 64)   18496     \n",
      " stributed)                                                      \n",
      "                                                                 \n",
      " time_distributed_57 (TimeDi  (None, 10, 15, 15, 64)   256       \n",
      " stributed)                                                      \n",
      "                                                                 \n",
      " time_distributed_58 (TimeDi  (None, 10, 7, 7, 64)     0         \n",
      " stributed)                                                      \n",
      "                                                                 \n",
      " time_distributed_59 (TimeDi  (None, 10, 7, 7, 128)    32896     \n",
      " stributed)                                                      \n",
      "                                                                 \n",
      " time_distributed_60 (TimeDi  (None, 10, 7, 7, 128)    512       \n",
      " stributed)                                                      \n",
      "                                                                 \n",
      " time_distributed_61 (TimeDi  (None, 10, 3, 3, 128)    0         \n",
      " stributed)                                                      \n",
      "                                                                 \n",
      " time_distributed_62 (TimeDi  (None, 10, 3, 3, 256)    131328    \n",
      " stributed)                                                      \n",
      "                                                                 \n",
      " time_distributed_63 (TimeDi  (None, 10, 3, 3, 256)    1024      \n",
      " stributed)                                                      \n",
      "                                                                 \n",
      " time_distributed_64 (TimeDi  (None, 10, 1, 1, 256)    0         \n",
      " stributed)                                                      \n",
      "                                                                 \n",
      " time_distributed_65 (TimeDi  (None, 10, 256)          0         \n",
      " stributed)                                                      \n",
      "                                                                 \n",
      " lstm_2 (LSTM)               (None, 64)                82176     \n",
      "                                                                 \n",
      " dropout_11 (Dropout)        (None, 64)                0         \n",
      "                                                                 \n",
      " dense_11 (Dense)            (None, 64)                4160      \n",
      "                                                                 \n",
      " dropout_12 (Dropout)        (None, 64)                0         \n",
      "                                                                 \n",
      " dense_12 (Dense)            (None, 5)                 325       \n",
      "                                                                 \n",
      "=================================================================\n",
      "Total params: 276,453\n",
      "Trainable params: 275,461\n",
      "Non-trainable params: 992\n",
      "_________________________________________________________________\n",
      "None\n"
     ]
    }
   ],
   "source": [
    "#write your model here\n",
    "nb_featuremap = [16,32,64,128,256]\n",
    "nb_dense = [128,64,5]\n",
    "nb_classes = 5\n",
    "# Input\n",
    "input_shape=(frames,rows,cols,channel)\n",
    "\n",
    "model1_LSTM = Sequential()\n",
    "\n",
    "model1_LSTM.add(TimeDistributed(Conv2D(nb_featuremap[0], (3, 3), strides=(2, 2),activation='relu', padding='same'), input_shape=input_shape))\n",
    "model1_LSTM.add(TimeDistributed(BatchNormalization()))\n",
    "model1_LSTM.add(TimeDistributed(MaxPooling2D((2, 2), strides=(2, 2))))\n",
    "\n",
    "model1_LSTM.add(TimeDistributed(Conv2D(nb_featuremap[1], (3,3),padding='same', activation='relu')))\n",
    "model1_LSTM.add(TimeDistributed(BatchNormalization()))\n",
    "model1_LSTM.add(TimeDistributed(MaxPooling2D((2, 2), strides=(2, 2))))\n",
    "\n",
    "model1_LSTM.add(TimeDistributed(Conv2D(nb_featuremap[2], (3,3),padding='same', activation='relu')))\n",
    "model1_LSTM.add(TimeDistributed(BatchNormalization()))\n",
    "model1_LSTM.add(TimeDistributed(MaxPooling2D((2, 2), strides=(2, 2))))\n",
    "\n",
    "model1_LSTM.add(TimeDistributed(Conv2D(nb_featuremap[3], (2,2),padding='same', activation='relu')))\n",
    "model1_LSTM.add(TimeDistributed(BatchNormalization()))\n",
    "model1_LSTM.add(TimeDistributed(MaxPooling2D((2, 2), strides=(2, 2))))\n",
    "\n",
    "model1_LSTM.add(TimeDistributed(Conv2D(nb_featuremap[4], (2,2),padding='same', activation='relu')))\n",
    "model1_LSTM.add(TimeDistributed(BatchNormalization()))\n",
    "model1_LSTM.add(TimeDistributed(MaxPooling2D((2, 2), strides=(2, 2))))\n",
    "\n",
    "model1_LSTM.add(TimeDistributed(Flatten()))\n",
    "\n",
    "## using LSTM as the RNN model along with softmax as our last layer.\n",
    "model1_LSTM.add(LSTM(64))\n",
    "model1_LSTM.add(Dropout(0.25))\n",
    "model1_LSTM.add(Dense(nb_dense[1], activation='relu'))\n",
    "model1_LSTM.add(Dropout(0.25))\n",
    "\n",
    "model1_LSTM.add(Dense(nb_classes, activation='softmax')) # using Softmax as last layer\n",
    "\n",
    "from tensorflow.keras.optimizers import Adam\n",
    "\n",
    "optimiser =Adam(0.001) #write your optimizer\n",
    "model1_LSTM.compile(optimizer=optimiser, loss='categorical_crossentropy', metrics=['categorical_accuracy'])\n",
    "print (model1_LSTM.summary())"
   ]
  },
  {
   "cell_type": "markdown",
   "metadata": {
    "id": "rglEZXW1Io2q"
   },
   "source": [
    "The steps_per_epoch and validation_steps are used by fit_generator to decide the number of next() calls it need to make.\n",
    "This time reducing batch size and increasing number of Epochs to 35"
   ]
  },
  {
   "cell_type": "code",
   "execution_count": 66,
   "metadata": {
    "executionInfo": {
     "elapsed": 274,
     "status": "ok",
     "timestamp": 1642936616574,
     "user": {
      "displayName": "Abhinav Goel",
      "photoUrl": "https://lh3.googleusercontent.com/a/default-user=s64",
      "userId": "11532605844347405676"
     },
     "user_tz": -480
    },
    "id": "i7VEm3lmUwC7"
   },
   "outputs": [],
   "source": [
    "# creating the `train_generator` and the `val_generator` which will be used in `.fit_generator`\n",
    "batch_size = 16\n",
    "train_generator = generator(train_path, train_doc, batch_size)\n",
    "val_generator = generator(val_path, val_doc, batch_size)\n",
    "if (num_train_sequences%batch_size) == 0:\n",
    "    steps_per_epoch = int(num_train_sequences/batch_size)\n",
    "else:\n",
    "    steps_per_epoch = (num_train_sequences//batch_size) + 1\n",
    "\n",
    "if (num_val_sequences%batch_size) == 0:\n",
    "    validation_steps = int(num_val_sequences/batch_size)\n",
    "else:\n",
    "    validation_steps = (num_val_sequences//batch_size) + 1\n",
    "\n",
    "num_epochs = 35"
   ]
  },
  {
   "cell_type": "markdown",
   "metadata": {
    "id": "yHjwOkZqI64I"
   },
   "source": [
    "Let us now fit the model. This will start training the model and with the help of the checkpoints, you'll be able to save the model at the end of each epoch"
   ]
  },
  {
   "cell_type": "code",
   "execution_count": 67,
   "metadata": {
    "colab": {
     "base_uri": "https://localhost:8080/"
    },
    "executionInfo": {
     "elapsed": 1334928,
     "status": "ok",
     "timestamp": 1642937974975,
     "user": {
      "displayName": "Abhinav Goel",
      "photoUrl": "https://lh3.googleusercontent.com/a/default-user=s64",
      "userId": "11532605844347405676"
     },
     "user_tz": -480
    },
    "id": "RPJmCGa6VIYM",
    "outputId": "cf100b83-06e8-4b67-b55b-a62ead586b4d"
   },
   "outputs": [
    {
     "name": "stderr",
     "output_type": "stream",
     "text": [
      "/usr/local/lib/python3.7/dist-packages/ipykernel_launcher.py:3: UserWarning: `Model.fit_generator` is deprecated and will be removed in a future version. Please use `Model.fit`, which supports generators.\n",
      "  This is separate from the ipykernel package so we can avoid doing imports until\n",
      "/usr/local/lib/python3.7/dist-packages/ipykernel_launcher.py:13: DeprecationWarning:     `imread` is deprecated!\n",
      "    `imread` is deprecated in SciPy 1.0.0, and will be removed in 1.2.0.\n",
      "    Use ``imageio.imread`` instead.\n",
      "  del sys.path[0]\n",
      "/usr/local/lib/python3.7/dist-packages/ipykernel_launcher.py:5: DeprecationWarning:     `imresize` is deprecated!\n",
      "    `imresize` is deprecated in SciPy 1.0.0, and will be removed in 1.2.0.\n",
      "    Use ``skimage.transform.resize`` instead.\n",
      "  \"\"\"\n"
     ]
    },
    {
     "name": "stdout",
     "output_type": "stream",
     "text": [
      "Source path =  app/Project_data/train ; batch size = 16\n",
      "Epoch 1/35\n",
      "41/42 [============================>.] - ETA: 0s - loss: 1.4771 - categorical_accuracy: 0.3506"
     ]
    },
    {
     "name": "stderr",
     "output_type": "stream",
     "text": [
      "/usr/local/lib/python3.7/dist-packages/ipykernel_launcher.py:34: DeprecationWarning:     `imread` is deprecated!\n",
      "    `imread` is deprecated in SciPy 1.0.0, and will be removed in 1.2.0.\n",
      "    Use ``imageio.imread`` instead.\n"
     ]
    },
    {
     "name": "stdout",
     "output_type": "stream",
     "text": [
      "42/42 [==============================] - ETA: 0s - loss: 1.4759 - categorical_accuracy: 0.3514Source path =  app/Project_data/val ; batch size = 16\n",
      "\n",
      "Epoch 00001: saving model to model_init_2022-01-2308_53_31.399787/model-00001-1.47587-0.35143-1.59835-0.27000.h5\n",
      "42/42 [==============================] - 40s 933ms/step - loss: 1.4759 - categorical_accuracy: 0.3514 - val_loss: 1.5983 - val_categorical_accuracy: 0.2700 - lr: 0.0010\n",
      "Epoch 2/35\n",
      "42/42 [==============================] - ETA: 0s - loss: 1.2161 - categorical_accuracy: 0.5204\n",
      "Epoch 00002: saving model to model_init_2022-01-2308_53_31.399787/model-00002-1.21613-0.52036-1.62051-0.22000.h5\n",
      "42/42 [==============================] - 38s 933ms/step - loss: 1.2161 - categorical_accuracy: 0.5204 - val_loss: 1.6205 - val_categorical_accuracy: 0.2200 - lr: 0.0010\n",
      "Epoch 3/35\n",
      "42/42 [==============================] - ETA: 0s - loss: 1.0093 - categorical_accuracy: 0.6033\n",
      "Epoch 00003: saving model to model_init_2022-01-2308_53_31.399787/model-00003-1.00933-0.60332-1.66850-0.22000.h5\n",
      "42/42 [==============================] - 38s 929ms/step - loss: 1.0093 - categorical_accuracy: 0.6033 - val_loss: 1.6685 - val_categorical_accuracy: 0.2200 - lr: 0.0010\n",
      "Epoch 4/35\n",
      "42/42 [==============================] - ETA: 0s - loss: 0.8446 - categorical_accuracy: 0.6878\n",
      "Epoch 00004: saving model to model_init_2022-01-2308_53_31.399787/model-00004-0.84455-0.68778-1.65524-0.31000.h5\n",
      "42/42 [==============================] - 38s 919ms/step - loss: 0.8446 - categorical_accuracy: 0.6878 - val_loss: 1.6552 - val_categorical_accuracy: 0.3100 - lr: 0.0010\n",
      "Epoch 5/35\n",
      "42/42 [==============================] - ETA: 0s - loss: 0.7363 - categorical_accuracy: 0.7376\n",
      "Epoch 00005: saving model to model_init_2022-01-2308_53_31.399787/model-00005-0.73633-0.73756-2.00180-0.20000.h5\n",
      "42/42 [==============================] - 38s 925ms/step - loss: 0.7363 - categorical_accuracy: 0.7376 - val_loss: 2.0018 - val_categorical_accuracy: 0.2000 - lr: 0.0010\n",
      "Epoch 6/35\n",
      "42/42 [==============================] - ETA: 0s - loss: 0.6799 - categorical_accuracy: 0.7557\n",
      "Epoch 00006: saving model to model_init_2022-01-2308_53_31.399787/model-00006-0.67990-0.75566-1.67458-0.27000.h5\n",
      "\n",
      "Epoch 00006: ReduceLROnPlateau reducing learning rate to 1.0000000474974514e-05.\n",
      "42/42 [==============================] - 38s 927ms/step - loss: 0.6799 - categorical_accuracy: 0.7557 - val_loss: 1.6746 - val_categorical_accuracy: 0.2700 - lr: 0.0010\n",
      "Epoch 7/35\n",
      "42/42 [==============================] - ETA: 0s - loss: 0.5671 - categorical_accuracy: 0.8084\n",
      "Epoch 00007: saving model to model_init_2022-01-2308_53_31.399787/model-00007-0.56714-0.80845-1.68310-0.32000.h5\n",
      "42/42 [==============================] - 37s 913ms/step - loss: 0.5671 - categorical_accuracy: 0.8084 - val_loss: 1.6831 - val_categorical_accuracy: 0.3200 - lr: 1.0000e-05\n",
      "Epoch 8/35\n",
      "42/42 [==============================] - ETA: 0s - loss: 0.5428 - categorical_accuracy: 0.8130\n",
      "Epoch 00008: saving model to model_init_2022-01-2308_53_31.399787/model-00008-0.54279-0.81297-1.61748-0.37000.h5\n",
      "42/42 [==============================] - 39s 940ms/step - loss: 0.5428 - categorical_accuracy: 0.8130 - val_loss: 1.6175 - val_categorical_accuracy: 0.3700 - lr: 1.0000e-05\n",
      "Epoch 9/35\n",
      "42/42 [==============================] - ETA: 0s - loss: 0.5067 - categorical_accuracy: 0.8265\n",
      "Epoch 00009: saving model to model_init_2022-01-2308_53_31.399787/model-00009-0.50669-0.82655-1.54540-0.40000.h5\n",
      "42/42 [==============================] - 37s 910ms/step - loss: 0.5067 - categorical_accuracy: 0.8265 - val_loss: 1.5454 - val_categorical_accuracy: 0.4000 - lr: 1.0000e-05\n",
      "Epoch 10/35\n",
      "42/42 [==============================] - ETA: 0s - loss: 0.5015 - categorical_accuracy: 0.8250\n",
      "Epoch 00010: saving model to model_init_2022-01-2308_53_31.399787/model-00010-0.50147-0.82504-1.72112-0.39000.h5\n",
      "42/42 [==============================] - 39s 939ms/step - loss: 0.5015 - categorical_accuracy: 0.8250 - val_loss: 1.7211 - val_categorical_accuracy: 0.3900 - lr: 1.0000e-05\n",
      "Epoch 11/35\n",
      "42/42 [==============================] - ETA: 0s - loss: 0.4290 - categorical_accuracy: 0.8718\n",
      "Epoch 00011: saving model to model_init_2022-01-2308_53_31.399787/model-00011-0.42900-0.87179-1.49549-0.45000.h5\n",
      "42/42 [==============================] - 38s 934ms/step - loss: 0.4290 - categorical_accuracy: 0.8718 - val_loss: 1.4955 - val_categorical_accuracy: 0.4500 - lr: 1.0000e-05\n",
      "Epoch 12/35\n",
      "42/42 [==============================] - ETA: 0s - loss: 0.4596 - categorical_accuracy: 0.8522\n",
      "Epoch 00012: saving model to model_init_2022-01-2308_53_31.399787/model-00012-0.45959-0.85219-1.44686-0.47000.h5\n",
      "42/42 [==============================] - 38s 928ms/step - loss: 0.4596 - categorical_accuracy: 0.8522 - val_loss: 1.4469 - val_categorical_accuracy: 0.4700 - lr: 1.0000e-05\n",
      "Epoch 13/35\n",
      "42/42 [==============================] - ETA: 0s - loss: 0.4607 - categorical_accuracy: 0.8386\n",
      "Epoch 00013: saving model to model_init_2022-01-2308_53_31.399787/model-00013-0.46070-0.83861-1.17199-0.51000.h5\n",
      "42/42 [==============================] - 38s 918ms/step - loss: 0.4607 - categorical_accuracy: 0.8386 - val_loss: 1.1720 - val_categorical_accuracy: 0.5100 - lr: 1.0000e-05\n",
      "Epoch 14/35\n",
      "42/42 [==============================] - ETA: 0s - loss: 0.4199 - categorical_accuracy: 0.8733\n",
      "Epoch 00014: saving model to model_init_2022-01-2308_53_31.399787/model-00014-0.41986-0.87330-0.99840-0.66000.h5\n",
      "42/42 [==============================] - 37s 910ms/step - loss: 0.4199 - categorical_accuracy: 0.8733 - val_loss: 0.9984 - val_categorical_accuracy: 0.6600 - lr: 1.0000e-05\n",
      "Epoch 15/35\n",
      "42/42 [==============================] - ETA: 0s - loss: 0.4415 - categorical_accuracy: 0.8492\n",
      "Epoch 00015: saving model to model_init_2022-01-2308_53_31.399787/model-00015-0.44152-0.84917-0.92482-0.67000.h5\n",
      "42/42 [==============================] - 38s 920ms/step - loss: 0.4415 - categorical_accuracy: 0.8492 - val_loss: 0.9248 - val_categorical_accuracy: 0.6700 - lr: 1.0000e-05\n",
      "Epoch 16/35\n",
      "42/42 [==============================] - ETA: 0s - loss: 0.4177 - categorical_accuracy: 0.8718\n",
      "Epoch 00016: saving model to model_init_2022-01-2308_53_31.399787/model-00016-0.41771-0.87179-0.87552-0.71000.h5\n",
      "42/42 [==============================] - 38s 918ms/step - loss: 0.4177 - categorical_accuracy: 0.8718 - val_loss: 0.8755 - val_categorical_accuracy: 0.7100 - lr: 1.0000e-05\n",
      "Epoch 17/35\n",
      "42/42 [==============================] - ETA: 0s - loss: 0.4233 - categorical_accuracy: 0.8597\n",
      "Epoch 00017: saving model to model_init_2022-01-2308_53_31.399787/model-00017-0.42329-0.85973-0.85519-0.70000.h5\n",
      "42/42 [==============================] - 38s 924ms/step - loss: 0.4233 - categorical_accuracy: 0.8597 - val_loss: 0.8552 - val_categorical_accuracy: 0.7000 - lr: 1.0000e-05\n",
      "Epoch 18/35\n",
      "42/42 [==============================] - ETA: 0s - loss: 0.4095 - categorical_accuracy: 0.8703\n",
      "Epoch 00018: saving model to model_init_2022-01-2308_53_31.399787/model-00018-0.40948-0.87029-0.72545-0.73000.h5\n",
      "42/42 [==============================] - 38s 931ms/step - loss: 0.4095 - categorical_accuracy: 0.8703 - val_loss: 0.7254 - val_categorical_accuracy: 0.7300 - lr: 1.0000e-05\n",
      "Epoch 19/35\n",
      "42/42 [==============================] - ETA: 0s - loss: 0.4156 - categorical_accuracy: 0.8658\n",
      "Epoch 00019: saving model to model_init_2022-01-2308_53_31.399787/model-00019-0.41559-0.86576-0.70461-0.76000.h5\n",
      "42/42 [==============================] - 38s 928ms/step - loss: 0.4156 - categorical_accuracy: 0.8658 - val_loss: 0.7046 - val_categorical_accuracy: 0.7600 - lr: 1.0000e-05\n",
      "Epoch 20/35\n",
      "42/42 [==============================] - ETA: 0s - loss: 0.3845 - categorical_accuracy: 0.8808\n",
      "Epoch 00020: saving model to model_init_2022-01-2308_53_31.399787/model-00020-0.38449-0.88084-0.80098-0.71000.h5\n",
      "42/42 [==============================] - 38s 916ms/step - loss: 0.3845 - categorical_accuracy: 0.8808 - val_loss: 0.8010 - val_categorical_accuracy: 0.7100 - lr: 1.0000e-05\n",
      "Epoch 21/35\n",
      "42/42 [==============================] - ETA: 0s - loss: 0.3502 - categorical_accuracy: 0.9050\n",
      "Epoch 00021: saving model to model_init_2022-01-2308_53_31.399787/model-00021-0.35018-0.90498-0.66393-0.74000.h5\n",
      "42/42 [==============================] - 37s 910ms/step - loss: 0.3502 - categorical_accuracy: 0.9050 - val_loss: 0.6639 - val_categorical_accuracy: 0.7400 - lr: 1.0000e-05\n",
      "Epoch 22/35\n",
      "42/42 [==============================] - ETA: 0s - loss: 0.4048 - categorical_accuracy: 0.8748\n",
      "Epoch 00022: saving model to model_init_2022-01-2308_53_31.399787/model-00022-0.40485-0.87481-0.70106-0.76000.h5\n",
      "42/42 [==============================] - 38s 933ms/step - loss: 0.4048 - categorical_accuracy: 0.8748 - val_loss: 0.7011 - val_categorical_accuracy: 0.7600 - lr: 1.0000e-05\n",
      "Epoch 23/35\n",
      "42/42 [==============================] - ETA: 0s - loss: 0.3664 - categorical_accuracy: 0.8884\n",
      "Epoch 00023: saving model to model_init_2022-01-2308_53_31.399787/model-00023-0.36636-0.88839-0.63643-0.76000.h5\n",
      "42/42 [==============================] - 38s 925ms/step - loss: 0.3664 - categorical_accuracy: 0.8884 - val_loss: 0.6364 - val_categorical_accuracy: 0.7600 - lr: 1.0000e-05\n",
      "Epoch 24/35\n",
      "42/42 [==============================] - ETA: 0s - loss: 0.3771 - categorical_accuracy: 0.8989\n",
      "Epoch 00024: saving model to model_init_2022-01-2308_53_31.399787/model-00024-0.37713-0.89894-0.57273-0.80000.h5\n",
      "42/42 [==============================] - 39s 944ms/step - loss: 0.3771 - categorical_accuracy: 0.8989 - val_loss: 0.5727 - val_categorical_accuracy: 0.8000 - lr: 1.0000e-05\n",
      "Epoch 25/35\n",
      "42/42 [==============================] - ETA: 0s - loss: 0.3479 - categorical_accuracy: 0.8899\n",
      "Epoch 00025: saving model to model_init_2022-01-2308_53_31.399787/model-00025-0.34793-0.88989-0.85256-0.71000.h5\n",
      "42/42 [==============================] - 38s 934ms/step - loss: 0.3479 - categorical_accuracy: 0.8899 - val_loss: 0.8526 - val_categorical_accuracy: 0.7100 - lr: 1.0000e-05\n",
      "Epoch 26/35\n",
      "42/42 [==============================] - ETA: 0s - loss: 0.3360 - categorical_accuracy: 0.9035\n",
      "Epoch 00026: saving model to model_init_2022-01-2308_53_31.399787/model-00026-0.33599-0.90347-0.57838-0.80000.h5\n",
      "42/42 [==============================] - 39s 950ms/step - loss: 0.3360 - categorical_accuracy: 0.9035 - val_loss: 0.5784 - val_categorical_accuracy: 0.8000 - lr: 1.0000e-05\n",
      "Epoch 27/35\n",
      "42/42 [==============================] - ETA: 0s - loss: 0.3380 - categorical_accuracy: 0.9080\n",
      "Epoch 00027: saving model to model_init_2022-01-2308_53_31.399787/model-00027-0.33799-0.90799-0.65841-0.76000.h5\n",
      "42/42 [==============================] - 38s 923ms/step - loss: 0.3380 - categorical_accuracy: 0.9080 - val_loss: 0.6584 - val_categorical_accuracy: 0.7600 - lr: 1.0000e-05\n",
      "Epoch 28/35\n",
      "42/42 [==============================] - ETA: 0s - loss: 0.3216 - categorical_accuracy: 0.9140\n",
      "Epoch 00028: saving model to model_init_2022-01-2308_53_31.399787/model-00028-0.32162-0.91403-0.65663-0.78000.h5\n",
      "42/42 [==============================] - 38s 914ms/step - loss: 0.3216 - categorical_accuracy: 0.9140 - val_loss: 0.6566 - val_categorical_accuracy: 0.7800 - lr: 1.0000e-05\n",
      "Epoch 29/35\n",
      "42/42 [==============================] - ETA: 0s - loss: 0.3343 - categorical_accuracy: 0.8974\n",
      "Epoch 00029: saving model to model_init_2022-01-2308_53_31.399787/model-00029-0.33429-0.89744-0.69942-0.75000.h5\n",
      "\n",
      "Epoch 00029: ReduceLROnPlateau reducing learning rate to 1.0000000656873453e-07.\n",
      "42/42 [==============================] - 38s 936ms/step - loss: 0.3343 - categorical_accuracy: 0.8974 - val_loss: 0.6994 - val_categorical_accuracy: 0.7500 - lr: 1.0000e-05\n",
      "Epoch 30/35\n",
      "42/42 [==============================] - ETA: 0s - loss: 0.3016 - categorical_accuracy: 0.9170\n",
      "Epoch 00030: saving model to model_init_2022-01-2308_53_31.399787/model-00030-0.30163-0.91704-0.73135-0.74000.h5\n",
      "42/42 [==============================] - 38s 928ms/step - loss: 0.3016 - categorical_accuracy: 0.9170 - val_loss: 0.7314 - val_categorical_accuracy: 0.7400 - lr: 1.0000e-07\n",
      "Epoch 31/35\n",
      "42/42 [==============================] - ETA: 0s - loss: 0.3311 - categorical_accuracy: 0.9005\n",
      "Epoch 00031: saving model to model_init_2022-01-2308_53_31.399787/model-00031-0.33106-0.90045-0.65785-0.76000.h5\n",
      "42/42 [==============================] - 38s 920ms/step - loss: 0.3311 - categorical_accuracy: 0.9005 - val_loss: 0.6579 - val_categorical_accuracy: 0.7600 - lr: 1.0000e-07\n",
      "Epoch 32/35\n",
      "42/42 [==============================] - ETA: 0s - loss: 0.3339 - categorical_accuracy: 0.9140\n",
      "Epoch 00032: saving model to model_init_2022-01-2308_53_31.399787/model-00032-0.33386-0.91403-0.61965-0.76000.h5\n",
      "42/42 [==============================] - 38s 927ms/step - loss: 0.3339 - categorical_accuracy: 0.9140 - val_loss: 0.6197 - val_categorical_accuracy: 0.7600 - lr: 1.0000e-07\n",
      "Epoch 33/35\n",
      "42/42 [==============================] - ETA: 0s - loss: 0.3400 - categorical_accuracy: 0.8989\n",
      "Epoch 00033: saving model to model_init_2022-01-2308_53_31.399787/model-00033-0.34001-0.89894-0.69631-0.75000.h5\n",
      "42/42 [==============================] - 38s 928ms/step - loss: 0.3400 - categorical_accuracy: 0.8989 - val_loss: 0.6963 - val_categorical_accuracy: 0.7500 - lr: 1.0000e-07\n",
      "Epoch 34/35\n",
      "42/42 [==============================] - ETA: 0s - loss: 0.3533 - categorical_accuracy: 0.8854\n",
      "Epoch 00034: saving model to model_init_2022-01-2308_53_31.399787/model-00034-0.35331-0.88537-0.67357-0.77000.h5\n",
      "42/42 [==============================] - 39s 941ms/step - loss: 0.3533 - categorical_accuracy: 0.8854 - val_loss: 0.6736 - val_categorical_accuracy: 0.7700 - lr: 1.0000e-07\n",
      "Epoch 35/35\n",
      "42/42 [==============================] - ETA: 0s - loss: 0.3168 - categorical_accuracy: 0.9201\n",
      "Epoch 00035: saving model to model_init_2022-01-2308_53_31.399787/model-00035-0.31675-0.92006-0.65719-0.76000.h5\n",
      "42/42 [==============================] - 38s 926ms/step - loss: 0.3168 - categorical_accuracy: 0.9201 - val_loss: 0.6572 - val_categorical_accuracy: 0.7600 - lr: 1.0000e-07\n"
     ]
    }
   ],
   "source": [
    "history_model1LSTM = model1_LSTM.fit_generator(train_generator, steps_per_epoch=steps_per_epoch, epochs=num_epochs, verbose=1, \n",
    "                    callbacks=callbacks_list, validation_data=val_generator, \n",
    "                    validation_steps=validation_steps, class_weight=None, workers=1, initial_epoch=0)"
   ]
  },
  {
   "cell_type": "markdown",
   "metadata": {
    "id": "D-VTWFpiI_fT"
   },
   "source": [
    "Plotting 3rd variant of Model"
   ]
  },
  {
   "cell_type": "code",
   "execution_count": 68,
   "metadata": {
    "colab": {
     "base_uri": "https://localhost:8080/",
     "height": 265
    },
    "executionInfo": {
     "elapsed": 1179,
     "status": "ok",
     "timestamp": 1642938001730,
     "user": {
      "displayName": "Abhinav Goel",
      "photoUrl": "https://lh3.googleusercontent.com/a/default-user=s64",
      "userId": "11532605844347405676"
     },
     "user_tz": -480
    },
    "id": "F9CDX7rOZoKx",
    "outputId": "90c488dc-572a-4311-93cf-acd7d50cede5"
   },
   "outputs": [
    {
     "data": {
      "image/png": "[encoded data removed]",
      "text/plain": [
       "<Figure size 1080x288 with 2 Axes>"
      ]
     },
     "metadata": {
      "needs_background": "light"
     },
     "output_type": "display_data"
    }
   ],
   "source": [
    "plot(history_model1LSTM)"
   ]
  },
  {
   "cell_type": "markdown",
   "metadata": {
    "id": "nDlr3ljaJr2h"
   },
   "source": [
    "# Model 4\n",
    "\n",
    "Trying another model using CNN3D"
   ]
  },
  {
   "cell_type": "code",
   "execution_count": 69,
   "metadata": {
    "colab": {
     "base_uri": "https://localhost:8080/"
    },
    "executionInfo": {
     "elapsed": 445,
     "status": "ok",
     "timestamp": 1642938035992,
     "user": {
      "displayName": "Abhinav Goel",
      "photoUrl": "https://lh3.googleusercontent.com/a/default-user=s64",
      "userId": "11532605844347405676"
     },
     "user_tz": -480
    },
    "id": "Uyp4TSYCjvA0",
    "outputId": "d5bdc22d-bacd-4ef5-978b-4c437a243360"
   },
   "outputs": [
    {
     "name": "stdout",
     "output_type": "stream",
     "text": [
      "Model: \"sequential_5\"\n",
      "_________________________________________________________________\n",
      " Layer (type)                Output Shape              Param #   \n",
      "=================================================================\n",
      " conv1 (Conv3D)              (None, 10, 120, 120, 8)   3008      \n",
      "                                                                 \n",
      " activation (Activation)     (None, 10, 120, 120, 8)   0         \n",
      "                                                                 \n",
      " conv2 (Conv3D)              (None, 10, 120, 120, 16)  3472      \n",
      "                                                                 \n",
      " activation_1 (Activation)   (None, 10, 120, 120, 16)  0         \n",
      "                                                                 \n",
      " max_pooling3d (MaxPooling3D  (None, 5, 60, 60, 16)    0         \n",
      " )                                                               \n",
      "                                                                 \n",
      " conv3 (Conv3D)              (None, 5, 60, 60, 32)     4640      \n",
      "                                                                 \n",
      " activation_2 (Activation)   (None, 5, 60, 60, 32)     0         \n",
      "                                                                 \n",
      " max_pooling3d_1 (MaxPooling  (None, 2, 30, 30, 32)    0         \n",
      " 3D)                                                             \n",
      "                                                                 \n",
      " batch_normalization_17 (Bat  (None, 2, 30, 30, 32)    128       \n",
      " chNormalization)                                                \n",
      "                                                                 \n",
      " dropout_13 (Dropout)        (None, 2, 30, 30, 32)     0         \n",
      "                                                                 \n",
      " max_pooling3d_2 (MaxPooling  (None, 1, 15, 15, 32)    0         \n",
      " 3D)                                                             \n",
      "                                                                 \n",
      " flatten_5 (Flatten)         (None, 7200)              0         \n",
      "                                                                 \n",
      " dense_13 (Dense)            (None, 128)               921728    \n",
      "                                                                 \n",
      " dropout_14 (Dropout)        (None, 128)               0         \n",
      "                                                                 \n",
      " dense_14 (Dense)            (None, 64)                8256      \n",
      "                                                                 \n",
      " dense_15 (Dense)            (None, 5)                 325       \n",
      "                                                                 \n",
      "=================================================================\n",
      "Total params: 941,557\n",
      "Trainable params: 941,493\n",
      "Non-trainable params: 64\n",
      "_________________________________________________________________\n",
      "None\n"
     ]
    }
   ],
   "source": [
    "#write your model here\n",
    "nb_featuremap = [8,16,32,64]\n",
    "nb_dense = [128,64,5]\n",
    "nb_classes = 5\n",
    "# Input\n",
    "input_shape=(frames,rows,cols,channel)\n",
    "\n",
    "model3d = Sequential()\n",
    "model3d.add(Conv3D(nb_featuremap[0], \n",
    "                 kernel_size=(5,5,5),\n",
    "                 input_shape=input_shape,\n",
    "                 padding='same', name=\"conv1\"))\n",
    "model3d.add(Activation('relu'))\n",
    "model3d.add(Conv3D(nb_featuremap[1], \n",
    "                 kernel_size=(3,3,3),\n",
    "                 padding='same',name=\"conv2\"))\n",
    "model3d.add(Activation('relu'))\n",
    "model3d.add(MaxPooling3D(pool_size=(2,2,2)))\n",
    "model3d.add(Conv3D(nb_featuremap[2], \n",
    "                 kernel_size=(1,3,3), \n",
    "                 padding='same',name=\"conv3\"))\n",
    "model3d.add(Activation('relu'))\n",
    "model3d.add(MaxPooling3D(pool_size=(2,2,2)))\n",
    "model3d.add(BatchNormalization())\n",
    "model3d.add(Dropout(0.25))\n",
    "model3d.add(MaxPooling3D(pool_size=(2,2,2)))\n",
    "model3d.add(Flatten())\n",
    "model3d.add(Dense(nb_dense[0], activation='relu'))\n",
    "model3d.add(Dropout(0.25))\n",
    "model3d.add(Dense(nb_dense[1], activation='relu'))\n",
    "#softmax layer\n",
    "model3d.add(Dense(nb_dense[2], activation='softmax'))\n",
    "optimiser = Adam(0.001)\n",
    "model3d.compile(optimizer=optimiser, loss='categorical_crossentropy', metrics=['categorical_accuracy'])\n",
    "print (model3d.summary())\n",
    "\n",
    "\n",
    "\n"
   ]
  },
  {
   "cell_type": "markdown",
   "metadata": {
    "id": "u4nt9tUgJ1zS"
   },
   "source": [
    "The steps_per_epoch and validation_steps are used by fit_generator to decide the number of next() calls it need to make.\n",
    "This time keeping batch size to 32  and epochs to 30 as per original parameters"
   ]
  },
  {
   "cell_type": "code",
   "execution_count": 70,
   "metadata": {
    "executionInfo": {
     "elapsed": 303,
     "status": "ok",
     "timestamp": 1642938124938,
     "user": {
      "displayName": "Abhinav Goel",
      "photoUrl": "https://lh3.googleusercontent.com/a/default-user=s64",
      "userId": "11532605844347405676"
     },
     "user_tz": -480
    },
    "id": "y2iICeBDvgBF"
   },
   "outputs": [],
   "source": [
    "# creating the `train_generator` and the `val_generator` which will be used in `.fit_generator`\n",
    "batch_size = 32\n",
    "train_generator = generator(train_path, train_doc, batch_size)\n",
    "val_generator = generator(val_path, val_doc, batch_size)\n",
    "if (num_train_sequences%batch_size) == 0:\n",
    "    steps_per_epoch = int(num_train_sequences/batch_size)\n",
    "else:\n",
    "    steps_per_epoch = (num_train_sequences//batch_size) + 1\n",
    "\n",
    "if (num_val_sequences%batch_size) == 0:\n",
    "    validation_steps = int(num_val_sequences/batch_size)\n",
    "else:\n",
    "    validation_steps = (num_val_sequences//batch_size) + 1\n",
    "\n",
    "num_epochs = 30"
   ]
  },
  {
   "cell_type": "markdown",
   "metadata": {
    "id": "K-sVgSxLKCkE"
   },
   "source": [
    "Let us now fit the model. This will start training the model and with the help of the checkpoints, you'll be able to save the model at the end of each epoch"
   ]
  },
  {
   "cell_type": "code",
   "execution_count": 71,
   "metadata": {
    "colab": {
     "base_uri": "https://localhost:8080/"
    },
    "executionInfo": {
     "elapsed": 1224542,
     "status": "ok",
     "timestamp": 1642939406151,
     "user": {
      "displayName": "Abhinav Goel",
      "photoUrl": "https://lh3.googleusercontent.com/a/default-user=s64",
      "userId": "11532605844347405676"
     },
     "user_tz": -480
    },
    "id": "rzUaBrmymK-F",
    "outputId": "ec9888d9-7efa-414c-c73c-68b29a7d2ade"
   },
   "outputs": [
    {
     "name": "stderr",
     "output_type": "stream",
     "text": [
      "/usr/local/lib/python3.7/dist-packages/ipykernel_launcher.py:3: UserWarning: `Model.fit_generator` is deprecated and will be removed in a future version. Please use `Model.fit`, which supports generators.\n",
      "  This is separate from the ipykernel package so we can avoid doing imports until\n",
      "/usr/local/lib/python3.7/dist-packages/ipykernel_launcher.py:13: DeprecationWarning:     `imread` is deprecated!\n",
      "    `imread` is deprecated in SciPy 1.0.0, and will be removed in 1.2.0.\n",
      "    Use ``imageio.imread`` instead.\n",
      "  del sys.path[0]\n",
      "/usr/local/lib/python3.7/dist-packages/ipykernel_launcher.py:5: DeprecationWarning:     `imresize` is deprecated!\n",
      "    `imresize` is deprecated in SciPy 1.0.0, and will be removed in 1.2.0.\n",
      "    Use ``skimage.transform.resize`` instead.\n",
      "  \"\"\"\n"
     ]
    },
    {
     "name": "stdout",
     "output_type": "stream",
     "text": [
      "Source path =  app/Project_data/train ; batch size = 32\n",
      "Epoch 1/30\n",
      "19/21 [==========================>...] - ETA: 2s - loss: 2.1374 - categorical_accuracy: 0.2253"
     ]
    },
    {
     "name": "stderr",
     "output_type": "stream",
     "text": [
      "/usr/local/lib/python3.7/dist-packages/ipykernel_launcher.py:34: DeprecationWarning:     `imread` is deprecated!\n",
      "    `imread` is deprecated in SciPy 1.0.0, and will be removed in 1.2.0.\n",
      "    Use ``imageio.imread`` instead.\n"
     ]
    },
    {
     "name": "stdout",
     "output_type": "stream",
     "text": [
      "21/21 [==============================] - ETA: 0s - loss: 2.1035 - categorical_accuracy: 0.2262Source path =  app/Project_data/val ; batch size = 32\n",
      "\n",
      "Epoch 00001: saving model to model_init_2022-01-2308_53_31.399787/model-00001-2.10345-0.22624-1.62557-0.21000.h5\n",
      "21/21 [==============================] - 41s 2s/step - loss: 2.1035 - categorical_accuracy: 0.2262 - val_loss: 1.6256 - val_categorical_accuracy: 0.2100 - lr: 0.0010\n",
      "Epoch 2/30\n",
      "21/21 [==============================] - ETA: 0s - loss: 1.4355 - categorical_accuracy: 0.3997\n",
      "Epoch 00002: saving model to model_init_2022-01-2308_53_31.399787/model-00002-1.43552-0.39970-1.59314-0.20000.h5\n",
      "21/21 [==============================] - 40s 2s/step - loss: 1.4355 - categorical_accuracy: 0.3997 - val_loss: 1.5931 - val_categorical_accuracy: 0.2000 - lr: 0.0010\n",
      "Epoch 3/30\n",
      "21/21 [==============================] - ETA: 0s - loss: 1.2665 - categorical_accuracy: 0.4449\n",
      "Epoch 00003: saving model to model_init_2022-01-2308_53_31.399787/model-00003-1.26649-0.44495-1.50514-0.25000.h5\n",
      "21/21 [==============================] - 39s 2s/step - loss: 1.2665 - categorical_accuracy: 0.4449 - val_loss: 1.5051 - val_categorical_accuracy: 0.2500 - lr: 0.0010\n",
      "Epoch 4/30\n",
      "21/21 [==============================] - ETA: 0s - loss: 1.1065 - categorical_accuracy: 0.5460\n",
      "Epoch 00004: saving model to model_init_2022-01-2308_53_31.399787/model-00004-1.10646-0.54600-1.53464-0.28000.h5\n",
      "21/21 [==============================] - 37s 2s/step - loss: 1.1065 - categorical_accuracy: 0.5460 - val_loss: 1.5346 - val_categorical_accuracy: 0.2800 - lr: 0.0010\n",
      "Epoch 5/30\n",
      "21/21 [==============================] - ETA: 0s - loss: 0.9372 - categorical_accuracy: 0.5732\n",
      "Epoch 00005: saving model to model_init_2022-01-2308_53_31.399787/model-00005-0.93721-0.57315-1.55132-0.31000.h5\n",
      "21/21 [==============================] - 39s 2s/step - loss: 0.9372 - categorical_accuracy: 0.5732 - val_loss: 1.5513 - val_categorical_accuracy: 0.3100 - lr: 0.0010\n",
      "Epoch 6/30\n",
      "21/21 [==============================] - ETA: 0s - loss: 0.7722 - categorical_accuracy: 0.6757\n",
      "Epoch 00006: saving model to model_init_2022-01-2308_53_31.399787/model-00006-0.77217-0.67572-1.37071-0.36000.h5\n",
      "21/21 [==============================] - 39s 2s/step - loss: 0.7722 - categorical_accuracy: 0.6757 - val_loss: 1.3707 - val_categorical_accuracy: 0.3600 - lr: 0.0010\n",
      "Epoch 7/30\n",
      "21/21 [==============================] - ETA: 0s - loss: 0.5883 - categorical_accuracy: 0.7677\n",
      "Epoch 00007: saving model to model_init_2022-01-2308_53_31.399787/model-00007-0.58829-0.76772-1.46948-0.34000.h5\n",
      "21/21 [==============================] - 39s 2s/step - loss: 0.5883 - categorical_accuracy: 0.7677 - val_loss: 1.4695 - val_categorical_accuracy: 0.3400 - lr: 0.0010\n",
      "Epoch 8/30\n",
      "21/21 [==============================] - ETA: 0s - loss: 0.4818 - categorical_accuracy: 0.8220\n",
      "Epoch 00008: saving model to model_init_2022-01-2308_53_31.399787/model-00008-0.48180-0.82202-1.50516-0.38000.h5\n",
      "21/21 [==============================] - 37s 2s/step - loss: 0.4818 - categorical_accuracy: 0.8220 - val_loss: 1.5052 - val_categorical_accuracy: 0.3800 - lr: 0.0010\n",
      "Epoch 9/30\n",
      "21/21 [==============================] - ETA: 0s - loss: 0.3752 - categorical_accuracy: 0.8552\n",
      "Epoch 00009: saving model to model_init_2022-01-2308_53_31.399787/model-00009-0.37525-0.85520-1.44606-0.42000.h5\n",
      "21/21 [==============================] - 39s 2s/step - loss: 0.3752 - categorical_accuracy: 0.8552 - val_loss: 1.4461 - val_categorical_accuracy: 0.4200 - lr: 0.0010\n",
      "Epoch 10/30\n",
      "21/21 [==============================] - ETA: 0s - loss: 0.2589 - categorical_accuracy: 0.9125\n",
      "Epoch 00010: saving model to model_init_2022-01-2308_53_31.399787/model-00010-0.25887-0.91252-1.37153-0.46000.h5\n",
      "21/21 [==============================] - 39s 2s/step - loss: 0.2589 - categorical_accuracy: 0.9125 - val_loss: 1.3715 - val_categorical_accuracy: 0.4600 - lr: 0.0010\n",
      "Epoch 11/30\n",
      "21/21 [==============================] - ETA: 0s - loss: 0.2192 - categorical_accuracy: 0.9261\n",
      "Epoch 00011: saving model to model_init_2022-01-2308_53_31.399787/model-00011-0.21923-0.92609-1.27025-0.53000.h5\n",
      "21/21 [==============================] - 39s 2s/step - loss: 0.2192 - categorical_accuracy: 0.9261 - val_loss: 1.2703 - val_categorical_accuracy: 0.5300 - lr: 0.0010\n",
      "Epoch 12/30\n",
      "21/21 [==============================] - ETA: 0s - loss: 0.1940 - categorical_accuracy: 0.9367\n",
      "Epoch 00012: saving model to model_init_2022-01-2308_53_31.399787/model-00012-0.19396-0.93665-1.28011-0.50000.h5\n",
      "21/21 [==============================] - 38s 2s/step - loss: 0.1940 - categorical_accuracy: 0.9367 - val_loss: 1.2801 - val_categorical_accuracy: 0.5000 - lr: 0.0010\n",
      "Epoch 13/30\n",
      "21/21 [==============================] - ETA: 0s - loss: 0.1571 - categorical_accuracy: 0.9442\n",
      "Epoch 00013: saving model to model_init_2022-01-2308_53_31.399787/model-00013-0.15706-0.94419-1.35538-0.52000.h5\n",
      "21/21 [==============================] - 39s 2s/step - loss: 0.1571 - categorical_accuracy: 0.9442 - val_loss: 1.3554 - val_categorical_accuracy: 0.5200 - lr: 0.0010\n",
      "Epoch 14/30\n",
      "21/21 [==============================] - ETA: 0s - loss: 0.1442 - categorical_accuracy: 0.9532\n",
      "Epoch 00014: saving model to model_init_2022-01-2308_53_31.399787/model-00014-0.14418-0.95324-1.29386-0.55000.h5\n",
      "21/21 [==============================] - 39s 2s/step - loss: 0.1442 - categorical_accuracy: 0.9532 - val_loss: 1.2939 - val_categorical_accuracy: 0.5500 - lr: 0.0010\n",
      "Epoch 15/30\n",
      "21/21 [==============================] - ETA: 0s - loss: 0.1101 - categorical_accuracy: 0.9638\n",
      "Epoch 00015: saving model to model_init_2022-01-2308_53_31.399787/model-00015-0.11014-0.96380-1.55740-0.46000.h5\n",
      "21/21 [==============================] - 39s 2s/step - loss: 0.1101 - categorical_accuracy: 0.9638 - val_loss: 1.5574 - val_categorical_accuracy: 0.4600 - lr: 0.0010\n",
      "Epoch 16/30\n",
      "21/21 [==============================] - ETA: 0s - loss: 0.1178 - categorical_accuracy: 0.9623\n",
      "Epoch 00016: saving model to model_init_2022-01-2308_53_31.399787/model-00016-0.11781-0.96229-1.42969-0.55000.h5\n",
      "\n",
      "Epoch 00016: ReduceLROnPlateau reducing learning rate to 1.0000000474974514e-05.\n",
      "21/21 [==============================] - 38s 2s/step - loss: 0.1178 - categorical_accuracy: 0.9623 - val_loss: 1.4297 - val_categorical_accuracy: 0.5500 - lr: 0.0010\n",
      "Epoch 17/30\n",
      "21/21 [==============================] - ETA: 0s - loss: 0.1072 - categorical_accuracy: 0.9668\n",
      "Epoch 00017: saving model to model_init_2022-01-2308_53_31.399787/model-00017-0.10724-0.96682-1.46359-0.55000.h5\n",
      "21/21 [==============================] - 39s 2s/step - loss: 0.1072 - categorical_accuracy: 0.9668 - val_loss: 1.4636 - val_categorical_accuracy: 0.5500 - lr: 1.0000e-05\n",
      "Epoch 18/30\n",
      "21/21 [==============================] - ETA: 0s - loss: 0.0881 - categorical_accuracy: 0.9729\n",
      "Epoch 00018: saving model to model_init_2022-01-2308_53_31.399787/model-00018-0.08812-0.97285-1.34734-0.58000.h5\n",
      "21/21 [==============================] - 39s 2s/step - loss: 0.0881 - categorical_accuracy: 0.9729 - val_loss: 1.3473 - val_categorical_accuracy: 0.5800 - lr: 1.0000e-05\n",
      "Epoch 19/30\n",
      "21/21 [==============================] - ETA: 0s - loss: 0.0788 - categorical_accuracy: 0.9759\n",
      "Epoch 00019: saving model to model_init_2022-01-2308_53_31.399787/model-00019-0.07877-0.97587-1.39083-0.58000.h5\n",
      "21/21 [==============================] - 39s 2s/step - loss: 0.0788 - categorical_accuracy: 0.9759 - val_loss: 1.3908 - val_categorical_accuracy: 0.5800 - lr: 1.0000e-05\n",
      "Epoch 20/30\n",
      "21/21 [==============================] - ETA: 0s - loss: 0.0824 - categorical_accuracy: 0.9759\n",
      "Epoch 00020: saving model to model_init_2022-01-2308_53_31.399787/model-00020-0.08243-0.97587-1.40439-0.57000.h5\n",
      "21/21 [==============================] - 38s 2s/step - loss: 0.0824 - categorical_accuracy: 0.9759 - val_loss: 1.4044 - val_categorical_accuracy: 0.5700 - lr: 1.0000e-05\n",
      "Epoch 21/30\n",
      "21/21 [==============================] - ETA: 0s - loss: 0.0915 - categorical_accuracy: 0.9638\n",
      "Epoch 00021: saving model to model_init_2022-01-2308_53_31.399787/model-00021-0.09151-0.96380-1.47360-0.56000.h5\n",
      "21/21 [==============================] - 39s 2s/step - loss: 0.0915 - categorical_accuracy: 0.9638 - val_loss: 1.4736 - val_categorical_accuracy: 0.5600 - lr: 1.0000e-05\n",
      "Epoch 22/30\n",
      "21/21 [==============================] - ETA: 0s - loss: 0.0786 - categorical_accuracy: 0.9729\n",
      "Epoch 00022: saving model to model_init_2022-01-2308_53_31.399787/model-00022-0.07857-0.97285-1.59479-0.57000.h5\n",
      "21/21 [==============================] - 39s 2s/step - loss: 0.0786 - categorical_accuracy: 0.9729 - val_loss: 1.5948 - val_categorical_accuracy: 0.5700 - lr: 1.0000e-05\n",
      "Epoch 23/30\n",
      "21/21 [==============================] - ETA: 0s - loss: 0.0780 - categorical_accuracy: 0.9729\n",
      "Epoch 00023: saving model to model_init_2022-01-2308_53_31.399787/model-00023-0.07796-0.97285-1.33311-0.56000.h5\n",
      "21/21 [==============================] - 39s 2s/step - loss: 0.0780 - categorical_accuracy: 0.9729 - val_loss: 1.3331 - val_categorical_accuracy: 0.5600 - lr: 1.0000e-05\n",
      "Epoch 24/30\n",
      "21/21 [==============================] - ETA: 0s - loss: 0.0732 - categorical_accuracy: 0.9864\n",
      "Epoch 00024: saving model to model_init_2022-01-2308_53_31.399787/model-00024-0.07321-0.98643-1.56226-0.55000.h5\n",
      "\n",
      "Epoch 00024: ReduceLROnPlateau reducing learning rate to 1.0000000656873453e-07.\n",
      "21/21 [==============================] - 38s 2s/step - loss: 0.0732 - categorical_accuracy: 0.9864 - val_loss: 1.5623 - val_categorical_accuracy: 0.5500 - lr: 1.0000e-05\n",
      "Epoch 25/30\n",
      "21/21 [==============================] - ETA: 0s - loss: 0.0835 - categorical_accuracy: 0.9759\n",
      "Epoch 00025: saving model to model_init_2022-01-2308_53_31.399787/model-00025-0.08354-0.97587-1.49177-0.56000.h5\n",
      "21/21 [==============================] - 39s 2s/step - loss: 0.0835 - categorical_accuracy: 0.9759 - val_loss: 1.4918 - val_categorical_accuracy: 0.5600 - lr: 1.0000e-07\n",
      "Epoch 26/30\n",
      "21/21 [==============================] - ETA: 0s - loss: 0.0612 - categorical_accuracy: 0.9849\n",
      "Epoch 00026: saving model to model_init_2022-01-2308_53_31.399787/model-00026-0.06123-0.98492-1.33287-0.59000.h5\n",
      "21/21 [==============================] - 39s 2s/step - loss: 0.0612 - categorical_accuracy: 0.9849 - val_loss: 1.3329 - val_categorical_accuracy: 0.5900 - lr: 1.0000e-07\n",
      "Epoch 27/30\n",
      "21/21 [==============================] - ETA: 0s - loss: 0.0744 - categorical_accuracy: 0.9834\n",
      "Epoch 00027: saving model to model_init_2022-01-2308_53_31.399787/model-00027-0.07438-0.98341-1.34042-0.62000.h5\n",
      "21/21 [==============================] - 39s 2s/step - loss: 0.0744 - categorical_accuracy: 0.9834 - val_loss: 1.3404 - val_categorical_accuracy: 0.6200 - lr: 1.0000e-07\n",
      "Epoch 28/30\n",
      "21/21 [==============================] - ETA: 0s - loss: 0.0649 - categorical_accuracy: 0.9834\n",
      "Epoch 00028: saving model to model_init_2022-01-2308_53_31.399787/model-00028-0.06492-0.98341-1.42646-0.57000.h5\n",
      "21/21 [==============================] - 38s 2s/step - loss: 0.0649 - categorical_accuracy: 0.9834 - val_loss: 1.4265 - val_categorical_accuracy: 0.5700 - lr: 1.0000e-07\n",
      "Epoch 29/30\n",
      "21/21 [==============================] - ETA: 0s - loss: 0.0762 - categorical_accuracy: 0.9789\n",
      "Epoch 00029: saving model to model_init_2022-01-2308_53_31.399787/model-00029-0.07620-0.97888-1.53567-0.57000.h5\n",
      "21/21 [==============================] - 39s 2s/step - loss: 0.0762 - categorical_accuracy: 0.9789 - val_loss: 1.5357 - val_categorical_accuracy: 0.5700 - lr: 1.0000e-07\n",
      "Epoch 30/30\n",
      "21/21 [==============================] - ETA: 0s - loss: 0.0702 - categorical_accuracy: 0.9834\n",
      "Epoch 00030: saving model to model_init_2022-01-2308_53_31.399787/model-00030-0.07020-0.98341-1.53416-0.56000.h5\n",
      "21/21 [==============================] - 39s 2s/step - loss: 0.0702 - categorical_accuracy: 0.9834 - val_loss: 1.5342 - val_categorical_accuracy: 0.5600 - lr: 1.0000e-07\n"
     ]
    }
   ],
   "source": [
    "history_model3d = model3d.fit_generator(train_generator, steps_per_epoch=steps_per_epoch, epochs=num_epochs, verbose=1, \n",
    "                    callbacks=callbacks_list, validation_data=val_generator, \n",
    "                    validation_steps=validation_steps, class_weight=None, workers=1, initial_epoch=0)"
   ]
  },
  {
   "cell_type": "markdown",
   "metadata": {
    "id": "Vjp0cH5UKFIL"
   },
   "source": [
    "Plotting Model 4"
   ]
  },
  {
   "cell_type": "code",
   "execution_count": 72,
   "metadata": {
    "colab": {
     "base_uri": "https://localhost:8080/",
     "height": 265
    },
    "executionInfo": {
     "elapsed": 1479,
     "status": "ok",
     "timestamp": 1642939460825,
     "user": {
      "displayName": "Abhinav Goel",
      "photoUrl": "https://lh3.googleusercontent.com/a/default-user=s64",
      "userId": "11532605844347405676"
     },
     "user_tz": -480
    },
    "id": "uPvSp7xZ0mWv",
    "outputId": "d046ef54-bcc7-49a9-e365-deebe6efab74"
   },
   "outputs": [
    {
     "data": {
      "image/png": "[encoded data removed]",
      "text/plain": [
       "<Figure size 1080x288 with 2 Axes>"
      ]
     },
     "metadata": {
      "needs_background": "light"
     },
     "output_type": "display_data"
    }
   ],
   "source": [
    "plot(history_model3d)"
   ]
  },
  {
   "cell_type": "markdown",
   "metadata": {
    "id": "tbg4y0BvKNB5"
   },
   "source": [
    "# Model 5\n",
    "\n",
    "Trying another model using CNN3D by increasing Dense layers"
   ]
  },
  {
   "cell_type": "code",
   "execution_count": 77,
   "metadata": {
    "colab": {
     "base_uri": "https://localhost:8080/"
    },
    "executionInfo": {
     "elapsed": 299,
     "status": "ok",
     "timestamp": 1642940746761,
     "user": {
      "displayName": "Abhinav Goel",
      "photoUrl": "https://lh3.googleusercontent.com/a/default-user=s64",
      "userId": "11532605844347405676"
     },
     "user_tz": -480
    },
    "id": "kekr2B2i0t6E",
    "outputId": "654a22b1-7215-4c54-f906-1cb434b56db9"
   },
   "outputs": [
    {
     "name": "stdout",
     "output_type": "stream",
     "text": [
      "Model: \"sequential_10\"\n",
      "_________________________________________________________________\n",
      " Layer (type)                Output Shape              Param #   \n",
      "=================================================================\n",
      " conv1 (Conv3D)              (None, 10, 120, 120, 16)  1312      \n",
      "                                                                 \n",
      " activation_19 (Activation)  (None, 10, 120, 120, 16)  0         \n",
      "                                                                 \n",
      " conv2 (Conv3D)              (None, 10, 120, 120, 32)  4128      \n",
      "                                                                 \n",
      " activation_20 (Activation)  (None, 10, 120, 120, 32)  0         \n",
      "                                                                 \n",
      " batch_normalization_34 (Bat  (None, 10, 120, 120, 32)  128      \n",
      " chNormalization)                                                \n",
      "                                                                 \n",
      " max_pooling3d_19 (MaxPoolin  (None, 5, 60, 60, 32)    0         \n",
      " g3D)                                                            \n",
      "                                                                 \n",
      " conv3 (Conv3D)              (None, 5, 60, 60, 64)     16448     \n",
      "                                                                 \n",
      " activation_21 (Activation)  (None, 5, 60, 60, 64)     0         \n",
      "                                                                 \n",
      " batch_normalization_35 (Bat  (None, 5, 60, 60, 64)    256       \n",
      " chNormalization)                                                \n",
      "                                                                 \n",
      " max_pooling3d_20 (MaxPoolin  (None, 2, 30, 30, 64)    0         \n",
      " g3D)                                                            \n",
      "                                                                 \n",
      " conv4 (Conv3D)              (None, 2, 30, 30, 128)    65664     \n",
      "                                                                 \n",
      " activation_22 (Activation)  (None, 2, 30, 30, 128)    0         \n",
      "                                                                 \n",
      " batch_normalization_36 (Bat  (None, 2, 30, 30, 128)   512       \n",
      " chNormalization)                                                \n",
      "                                                                 \n",
      " max_pooling3d_21 (MaxPoolin  (None, 1, 15, 15, 128)   0         \n",
      " g3D)                                                            \n",
      "                                                                 \n",
      " flatten_6 (Flatten)         (None, 28800)             0         \n",
      "                                                                 \n",
      " dense_16 (Dense)            (None, 128)               3686528   \n",
      "                                                                 \n",
      " batch_normalization_37 (Bat  (None, 128)              512       \n",
      " chNormalization)                                                \n",
      "                                                                 \n",
      " dropout_15 (Dropout)        (None, 128)               0         \n",
      "                                                                 \n",
      " dense_17 (Dense)            (None, 64)                8256      \n",
      "                                                                 \n",
      " batch_normalization_38 (Bat  (None, 64)               256       \n",
      " chNormalization)                                                \n",
      "                                                                 \n",
      " dropout_16 (Dropout)        (None, 64)                0         \n",
      "                                                                 \n",
      " dense_18 (Dense)            (None, 5)                 325       \n",
      "                                                                 \n",
      "=================================================================\n",
      "Total params: 3,784,325\n",
      "Trainable params: 3,783,493\n",
      "Non-trainable params: 832\n",
      "_________________________________________________________________\n",
      "None\n"
     ]
    }
   ],
   "source": [
    "#write your model here\n",
    "nb_featuremap = [16,32,64,128]\n",
    "nb_dense = [128,64,5]\n",
    "nb_classes = 5\n",
    "# Input\n",
    "input_shape=(frames,rows,cols,channel)\n",
    "\n",
    "model3d1 = Sequential()\n",
    "model3d1.add(Conv3D(nb_featuremap[0], \n",
    "                 kernel_size=(3,3,3),\n",
    "                 input_shape=input_shape,\n",
    "                 padding='same', name=\"conv1\"))\n",
    "model3d1.add(Activation('relu'))\n",
    "\n",
    "\n",
    "model3d1.add(Conv3D(nb_featuremap[1], \n",
    "                 kernel_size=(2,2,2),\n",
    "                 padding='same',name=\"conv2\"))\n",
    "model3d1.add(Activation('relu'))\n",
    "model3d1.add(BatchNormalization())\n",
    "model3d1.add(MaxPooling3D(pool_size=(2,2,2)))\n",
    "\n",
    "model3d1.add(Conv3D(nb_featuremap[2], \n",
    "                 kernel_size=(2,2,2), \n",
    "                 padding='same',name=\"conv3\"))\n",
    "model3d1.add(Activation('relu'))\n",
    "model3d1.add(BatchNormalization())\n",
    "model3d1.add(MaxPooling3D(pool_size=(2,2,2)))\n",
    "\n",
    "model3d1.add(Conv3D(nb_featuremap[3], \n",
    "                 kernel_size=(2,2,2), \n",
    "                 padding='same',name=\"conv4\"))\n",
    "model3d1.add(Activation('relu'))\n",
    "model3d1.add(BatchNormalization())\n",
    "model3d1.add(MaxPooling3D(pool_size=(2,2,2)))\n",
    "\n",
    "model3d1.add(Flatten())\n",
    "model3d1.add(Dense(nb_dense[0], activation='relu'))\n",
    "model3d1.add(BatchNormalization())\n",
    "model3d1.add(Dropout(0.25))\n",
    "\n",
    "model3d1.add(Dense(nb_dense[1], activation='relu'))\n",
    "model3d1.add(BatchNormalization())\n",
    "model3d1.add(Dropout(0.25))\n",
    "\n",
    "#softmax layer\n",
    "model3d1.add(Dense(nb_dense[2], activation='softmax'))\n",
    "optimiser = Adam(0.0002)\n",
    "model3d1.compile(optimizer=optimiser, loss='categorical_crossentropy', metrics=['categorical_accuracy'])\n",
    "print (model3d1.summary())"
   ]
  },
  {
   "cell_type": "markdown",
   "metadata": {
    "id": "r_M4OSZ4Kf1E"
   },
   "source": [
    "The steps_per_epoch and validation_steps are used by fit_generator to decide the number of next() calls it need to make"
   ]
  },
  {
   "cell_type": "code",
   "execution_count": 78,
   "metadata": {
    "executionInfo": {
     "elapsed": 278,
     "status": "ok",
     "timestamp": 1642940865331,
     "user": {
      "displayName": "Abhinav Goel",
      "photoUrl": "https://lh3.googleusercontent.com/a/default-user=s64",
      "userId": "11532605844347405676"
     },
     "user_tz": -480
    },
    "id": "idsyUEpn55Of"
   },
   "outputs": [],
   "source": [
    "# creating the `train_generator` and the `val_generator` which will be used in `.fit_generator`\n",
    "batch_size = 32\n",
    "train_generator = generator(train_path, train_doc, batch_size)\n",
    "val_generator = generator(val_path, val_doc, batch_size)\n",
    "if (num_train_sequences%batch_size) == 0:\n",
    "    steps_per_epoch = int(num_train_sequences/batch_size)\n",
    "else:\n",
    "    steps_per_epoch = (num_train_sequences//batch_size) + 1\n",
    "\n",
    "if (num_val_sequences%batch_size) == 0:\n",
    "    validation_steps = int(num_val_sequences/batch_size)\n",
    "else:\n",
    "    validation_steps = (num_val_sequences//batch_size) + 1\n",
    "\n",
    "num_epochs = 30"
   ]
  },
  {
   "cell_type": "markdown",
   "metadata": {
    "id": "9lRTpxIaKlcI"
   },
   "source": [
    "Let us now fit the model. This will start training the model and with the help of the checkpoints, you'll be able to save the model at the end of each epoch"
   ]
  },
  {
   "cell_type": "code",
   "execution_count": 79,
   "metadata": {
    "colab": {
     "base_uri": "https://localhost:8080/"
    },
    "executionInfo": {
     "elapsed": 1209715,
     "status": "ok",
     "timestamp": 1642942108273,
     "user": {
      "displayName": "Abhinav Goel",
      "photoUrl": "https://lh3.googleusercontent.com/a/default-user=s64",
      "userId": "11532605844347405676"
     },
     "user_tz": -480
    },
    "id": "m6zMK-vQ6GdR",
    "outputId": "b738922d-44b6-4c4e-af93-a83e3ecd46f3"
   },
   "outputs": [
    {
     "name": "stderr",
     "output_type": "stream",
     "text": [
      "/usr/local/lib/python3.7/dist-packages/ipykernel_launcher.py:3: UserWarning: `Model.fit_generator` is deprecated and will be removed in a future version. Please use `Model.fit`, which supports generators.\n",
      "  This is separate from the ipykernel package so we can avoid doing imports until\n",
      "/usr/local/lib/python3.7/dist-packages/ipykernel_launcher.py:13: DeprecationWarning:     `imread` is deprecated!\n",
      "    `imread` is deprecated in SciPy 1.0.0, and will be removed in 1.2.0.\n",
      "    Use ``imageio.imread`` instead.\n",
      "  del sys.path[0]\n",
      "/usr/local/lib/python3.7/dist-packages/ipykernel_launcher.py:5: DeprecationWarning:     `imresize` is deprecated!\n",
      "    `imresize` is deprecated in SciPy 1.0.0, and will be removed in 1.2.0.\n",
      "    Use ``skimage.transform.resize`` instead.\n",
      "  \"\"\"\n"
     ]
    },
    {
     "name": "stdout",
     "output_type": "stream",
     "text": [
      "Source path =  app/Project_data/train ; batch size = 32\n",
      "Epoch 1/30\n",
      "19/21 [==========================>...] - ETA: 3s - loss: 1.6505 - categorical_accuracy: 0.4194"
     ]
    },
    {
     "name": "stderr",
     "output_type": "stream",
     "text": [
      "/usr/local/lib/python3.7/dist-packages/ipykernel_launcher.py:34: DeprecationWarning:     `imread` is deprecated!\n",
      "    `imread` is deprecated in SciPy 1.0.0, and will be removed in 1.2.0.\n",
      "    Use ``imageio.imread`` instead.\n"
     ]
    },
    {
     "name": "stdout",
     "output_type": "stream",
     "text": [
      "21/21 [==============================] - ETA: 0s - loss: 1.6277 - categorical_accuracy: 0.4178Source path =  app/Project_data/val ; batch size = 32\n",
      "\n",
      "Epoch 00001: saving model to model_init_2022-01-2308_53_31.399787/model-00001-1.62768-0.41780-1.86569-0.21000.h5\n",
      "21/21 [==============================] - 43s 2s/step - loss: 1.6277 - categorical_accuracy: 0.4178 - val_loss: 1.8657 - val_categorical_accuracy: 0.2100 - lr: 2.0000e-04\n",
      "Epoch 2/30\n",
      "21/21 [==============================] - ETA: 0s - loss: 0.8074 - categorical_accuracy: 0.6833\n",
      "Epoch 00002: saving model to model_init_2022-01-2308_53_31.399787/model-00002-0.80738-0.68326-3.48117-0.20000.h5\n",
      "21/21 [==============================] - 40s 2s/step - loss: 0.8074 - categorical_accuracy: 0.6833 - val_loss: 3.4812 - val_categorical_accuracy: 0.2000 - lr: 2.0000e-04\n",
      "Epoch 3/30\n",
      "21/21 [==============================] - ETA: 0s - loss: 0.5305 - categorical_accuracy: 0.8145\n",
      "Epoch 00003: saving model to model_init_2022-01-2308_53_31.399787/model-00003-0.53052-0.81448-5.72317-0.18000.h5\n",
      "21/21 [==============================] - 40s 2s/step - loss: 0.5305 - categorical_accuracy: 0.8145 - val_loss: 5.7232 - val_categorical_accuracy: 0.1800 - lr: 2.0000e-04\n",
      "Epoch 4/30\n",
      "21/21 [==============================] - ETA: 0s - loss: 0.4119 - categorical_accuracy: 0.8462\n",
      "Epoch 00004: saving model to model_init_2022-01-2308_53_31.399787/model-00004-0.41194-0.84615-7.52284-0.20000.h5\n",
      "21/21 [==============================] - 39s 2s/step - loss: 0.4119 - categorical_accuracy: 0.8462 - val_loss: 7.5228 - val_categorical_accuracy: 0.2000 - lr: 2.0000e-04\n",
      "Epoch 5/30\n",
      "21/21 [==============================] - ETA: 0s - loss: 0.2774 - categorical_accuracy: 0.9170\n",
      "Epoch 00005: saving model to model_init_2022-01-2308_53_31.399787/model-00005-0.27744-0.91704-9.32482-0.21000.h5\n",
      "21/21 [==============================] - 40s 2s/step - loss: 0.2774 - categorical_accuracy: 0.9170 - val_loss: 9.3248 - val_categorical_accuracy: 0.2100 - lr: 2.0000e-04\n",
      "Epoch 6/30\n",
      "21/21 [==============================] - ETA: 0s - loss: 0.1611 - categorical_accuracy: 0.9713\n",
      "Epoch 00006: saving model to model_init_2022-01-2308_53_31.399787/model-00006-0.16107-0.97134-10.28756-0.23000.h5\n",
      "\n",
      "Epoch 00006: ReduceLROnPlateau reducing learning rate to 1.9999999494757505e-06.\n",
      "21/21 [==============================] - 40s 2s/step - loss: 0.1611 - categorical_accuracy: 0.9713 - val_loss: 10.2876 - val_categorical_accuracy: 0.2300 - lr: 2.0000e-04\n",
      "Epoch 7/30\n",
      "21/21 [==============================] - ETA: 0s - loss: 0.1592 - categorical_accuracy: 0.9744\n",
      "Epoch 00007: saving model to model_init_2022-01-2308_53_31.399787/model-00007-0.15917-0.97436-12.79549-0.18000.h5\n",
      "21/21 [==============================] - 40s 2s/step - loss: 0.1592 - categorical_accuracy: 0.9744 - val_loss: 12.7955 - val_categorical_accuracy: 0.1800 - lr: 2.0000e-06\n",
      "Epoch 8/30\n",
      "21/21 [==============================] - ETA: 0s - loss: 0.1737 - categorical_accuracy: 0.9623\n",
      "Epoch 00008: saving model to model_init_2022-01-2308_53_31.399787/model-00008-0.17373-0.96229-13.40282-0.22000.h5\n",
      "21/21 [==============================] - 38s 2s/step - loss: 0.1737 - categorical_accuracy: 0.9623 - val_loss: 13.4028 - val_categorical_accuracy: 0.2200 - lr: 2.0000e-06\n",
      "Epoch 9/30\n",
      "21/21 [==============================] - ETA: 0s - loss: 0.1615 - categorical_accuracy: 0.9623\n",
      "Epoch 00009: saving model to model_init_2022-01-2308_53_31.399787/model-00009-0.16154-0.96229-14.88071-0.21000.h5\n",
      "21/21 [==============================] - 40s 2s/step - loss: 0.1615 - categorical_accuracy: 0.9623 - val_loss: 14.8807 - val_categorical_accuracy: 0.2100 - lr: 2.0000e-06\n",
      "Epoch 10/30\n",
      "21/21 [==============================] - ETA: 0s - loss: 0.1703 - categorical_accuracy: 0.9653\n",
      "Epoch 00010: saving model to model_init_2022-01-2308_53_31.399787/model-00010-0.17027-0.96531-17.30272-0.17000.h5\n",
      "21/21 [==============================] - 40s 2s/step - loss: 0.1703 - categorical_accuracy: 0.9653 - val_loss: 17.3027 - val_categorical_accuracy: 0.1700 - lr: 2.0000e-06\n",
      "Epoch 11/30\n",
      "21/21 [==============================] - ETA: 0s - loss: 0.1563 - categorical_accuracy: 0.9759\n",
      "Epoch 00011: saving model to model_init_2022-01-2308_53_31.399787/model-00011-0.15630-0.97587-16.91723-0.25000.h5\n",
      "21/21 [==============================] - 40s 2s/step - loss: 0.1563 - categorical_accuracy: 0.9759 - val_loss: 16.9172 - val_categorical_accuracy: 0.2500 - lr: 2.0000e-06\n",
      "Epoch 12/30\n",
      "21/21 [==============================] - ETA: 0s - loss: 0.1557 - categorical_accuracy: 0.9668\n",
      "Epoch 00012: saving model to model_init_2022-01-2308_53_31.399787/model-00012-0.15566-0.96682-17.04988-0.20000.h5\n",
      "21/21 [==============================] - 39s 2s/step - loss: 0.1557 - categorical_accuracy: 0.9668 - val_loss: 17.0499 - val_categorical_accuracy: 0.2000 - lr: 2.0000e-06\n",
      "Epoch 13/30\n",
      "21/21 [==============================] - ETA: 0s - loss: 0.1667 - categorical_accuracy: 0.9698\n",
      "Epoch 00013: saving model to model_init_2022-01-2308_53_31.399787/model-00013-0.16671-0.96983-15.87680-0.21000.h5\n",
      "21/21 [==============================] - 40s 2s/step - loss: 0.1667 - categorical_accuracy: 0.9698 - val_loss: 15.8768 - val_categorical_accuracy: 0.2100 - lr: 2.0000e-06\n",
      "Epoch 14/30\n",
      "21/21 [==============================] - ETA: 0s - loss: 0.1552 - categorical_accuracy: 0.9683\n",
      "Epoch 00014: saving model to model_init_2022-01-2308_53_31.399787/model-00014-0.15524-0.96833-14.59928-0.20000.h5\n",
      "\n",
      "Epoch 00014: ReduceLROnPlateau reducing learning rate to 1.9999999949504856e-08.\n",
      "21/21 [==============================] - 40s 2s/step - loss: 0.1552 - categorical_accuracy: 0.9683 - val_loss: 14.5993 - val_categorical_accuracy: 0.2000 - lr: 2.0000e-06\n",
      "Epoch 15/30\n",
      "21/21 [==============================] - ETA: 0s - loss: 0.1577 - categorical_accuracy: 0.9653\n",
      "Epoch 00015: saving model to model_init_2022-01-2308_53_31.399787/model-00015-0.15768-0.96531-11.03389-0.17000.h5\n",
      "21/21 [==============================] - 41s 2s/step - loss: 0.1577 - categorical_accuracy: 0.9653 - val_loss: 11.0339 - val_categorical_accuracy: 0.1700 - lr: 2.0000e-08\n",
      "Epoch 16/30\n",
      "21/21 [==============================] - ETA: 0s - loss: 0.1685 - categorical_accuracy: 0.9713\n",
      "Epoch 00016: saving model to model_init_2022-01-2308_53_31.399787/model-00016-0.16854-0.97134-9.97293-0.24000.h5\n",
      "21/21 [==============================] - 39s 2s/step - loss: 0.1685 - categorical_accuracy: 0.9713 - val_loss: 9.9729 - val_categorical_accuracy: 0.2400 - lr: 2.0000e-08\n",
      "Epoch 17/30\n",
      "21/21 [==============================] - ETA: 0s - loss: 0.1511 - categorical_accuracy: 0.9759\n",
      "Epoch 00017: saving model to model_init_2022-01-2308_53_31.399787/model-00017-0.15106-0.97587-8.52078-0.26000.h5\n",
      "21/21 [==============================] - 40s 2s/step - loss: 0.1511 - categorical_accuracy: 0.9759 - val_loss: 8.5208 - val_categorical_accuracy: 0.2600 - lr: 2.0000e-08\n",
      "Epoch 18/30\n",
      "21/21 [==============================] - ETA: 0s - loss: 0.1449 - categorical_accuracy: 0.9713\n",
      "Epoch 00018: saving model to model_init_2022-01-2308_53_31.399787/model-00018-0.14491-0.97134-8.51222-0.17000.h5\n",
      "21/21 [==============================] - 40s 2s/step - loss: 0.1449 - categorical_accuracy: 0.9713 - val_loss: 8.5122 - val_categorical_accuracy: 0.1700 - lr: 2.0000e-08\n",
      "Epoch 19/30\n",
      "21/21 [==============================] - ETA: 0s - loss: 0.1421 - categorical_accuracy: 0.9683\n",
      "Epoch 00019: saving model to model_init_2022-01-2308_53_31.399787/model-00019-0.14210-0.96833-6.45411-0.26000.h5\n",
      "21/21 [==============================] - 41s 2s/step - loss: 0.1421 - categorical_accuracy: 0.9683 - val_loss: 6.4541 - val_categorical_accuracy: 0.2600 - lr: 2.0000e-08\n",
      "Epoch 20/30\n",
      "21/21 [==============================] - ETA: 0s - loss: 0.1457 - categorical_accuracy: 0.9638\n",
      "Epoch 00020: saving model to model_init_2022-01-2308_53_31.399787/model-00020-0.14572-0.96380-6.54384-0.18000.h5\n",
      "21/21 [==============================] - 39s 2s/step - loss: 0.1457 - categorical_accuracy: 0.9638 - val_loss: 6.5438 - val_categorical_accuracy: 0.1800 - lr: 2.0000e-08\n",
      "Epoch 21/30\n",
      "21/21 [==============================] - ETA: 0s - loss: 0.1642 - categorical_accuracy: 0.9653\n",
      "Epoch 00021: saving model to model_init_2022-01-2308_53_31.399787/model-00021-0.16419-0.96531-5.56692-0.20000.h5\n",
      "21/21 [==============================] - 40s 2s/step - loss: 0.1642 - categorical_accuracy: 0.9653 - val_loss: 5.5669 - val_categorical_accuracy: 0.2000 - lr: 2.0000e-08\n",
      "Epoch 22/30\n",
      "21/21 [==============================] - ETA: 0s - loss: 0.1554 - categorical_accuracy: 0.9729\n",
      "Epoch 00022: saving model to model_init_2022-01-2308_53_31.399787/model-00022-0.15537-0.97285-4.66414-0.20000.h5\n",
      "\n",
      "Epoch 00022: ReduceLROnPlateau reducing learning rate to 1.9999999878450582e-10.\n",
      "21/21 [==============================] - 43s 2s/step - loss: 0.1554 - categorical_accuracy: 0.9729 - val_loss: 4.6641 - val_categorical_accuracy: 0.2000 - lr: 2.0000e-08\n",
      "Epoch 23/30\n",
      "21/21 [==============================] - ETA: 0s - loss: 0.1485 - categorical_accuracy: 0.9819\n",
      "Epoch 00023: saving model to model_init_2022-01-2308_53_31.399787/model-00023-0.14847-0.98190-3.54569-0.29000.h5\n",
      "21/21 [==============================] - 41s 2s/step - loss: 0.1485 - categorical_accuracy: 0.9819 - val_loss: 3.5457 - val_categorical_accuracy: 0.2900 - lr: 2.0000e-10\n",
      "Epoch 24/30\n",
      "21/21 [==============================] - ETA: 0s - loss: 0.1622 - categorical_accuracy: 0.9668\n",
      "Epoch 00024: saving model to model_init_2022-01-2308_53_31.399787/model-00024-0.16221-0.96682-2.92720-0.30000.h5\n",
      "21/21 [==============================] - 38s 2s/step - loss: 0.1622 - categorical_accuracy: 0.9668 - val_loss: 2.9272 - val_categorical_accuracy: 0.3000 - lr: 2.0000e-10\n",
      "Epoch 25/30\n",
      "21/21 [==============================] - ETA: 0s - loss: 0.1530 - categorical_accuracy: 0.9698\n",
      "Epoch 00025: saving model to model_init_2022-01-2308_53_31.399787/model-00025-0.15298-0.96983-2.55513-0.36000.h5\n",
      "21/21 [==============================] - 40s 2s/step - loss: 0.1530 - categorical_accuracy: 0.9698 - val_loss: 2.5551 - val_categorical_accuracy: 0.3600 - lr: 2.0000e-10\n",
      "Epoch 26/30\n",
      "21/21 [==============================] - ETA: 0s - loss: 0.1549 - categorical_accuracy: 0.9668\n",
      "Epoch 00026: saving model to model_init_2022-01-2308_53_31.399787/model-00026-0.15492-0.96682-2.25321-0.35000.h5\n",
      "21/21 [==============================] - 40s 2s/step - loss: 0.1549 - categorical_accuracy: 0.9668 - val_loss: 2.2532 - val_categorical_accuracy: 0.3500 - lr: 2.0000e-10\n",
      "Epoch 27/30\n",
      "21/21 [==============================] - ETA: 0s - loss: 0.1490 - categorical_accuracy: 0.9774\n",
      "Epoch 00027: saving model to model_init_2022-01-2308_53_31.399787/model-00027-0.14904-0.97738-1.86819-0.45000.h5\n",
      "21/21 [==============================] - 43s 2s/step - loss: 0.1490 - categorical_accuracy: 0.9774 - val_loss: 1.8682 - val_categorical_accuracy: 0.4500 - lr: 2.0000e-10\n",
      "Epoch 28/30\n",
      "21/21 [==============================] - ETA: 0s - loss: 0.1400 - categorical_accuracy: 0.9804\n",
      "Epoch 00028: saving model to model_init_2022-01-2308_53_31.399787/model-00028-0.13998-0.98039-1.74626-0.49000.h5\n",
      "21/21 [==============================] - 39s 2s/step - loss: 0.1400 - categorical_accuracy: 0.9804 - val_loss: 1.7463 - val_categorical_accuracy: 0.4900 - lr: 2.0000e-10\n",
      "Epoch 29/30\n",
      "21/21 [==============================] - ETA: 0s - loss: 0.1629 - categorical_accuracy: 0.9593\n",
      "Epoch 00029: saving model to model_init_2022-01-2308_53_31.399787/model-00029-0.16290-0.95928-1.42490-0.53000.h5\n",
      "21/21 [==============================] - 40s 2s/step - loss: 0.1629 - categorical_accuracy: 0.9593 - val_loss: 1.4249 - val_categorical_accuracy: 0.5300 - lr: 2.0000e-10\n",
      "Epoch 30/30\n",
      "21/21 [==============================] - ETA: 0s - loss: 0.1332 - categorical_accuracy: 0.9789\n",
      "Epoch 00030: saving model to model_init_2022-01-2308_53_31.399787/model-00030-0.13316-0.97888-1.35096-0.52000.h5\n",
      "21/21 [==============================] - 43s 2s/step - loss: 0.1332 - categorical_accuracy: 0.9789 - val_loss: 1.3510 - val_categorical_accuracy: 0.5200 - lr: 2.0000e-10\n"
     ]
    }
   ],
   "source": [
    "history_model3d1 = model3d1.fit_generator(train_generator, steps_per_epoch=steps_per_epoch, epochs=num_epochs, verbose=1, \n",
    "                    callbacks=callbacks_list, validation_data=val_generator, \n",
    "                    validation_steps=validation_steps, class_weight=None, workers=1, initial_epoch=0)"
   ]
  },
  {
   "cell_type": "markdown",
   "metadata": {
    "id": "j44bKsIuKppv"
   },
   "source": [
    "Plotting Model #5"
   ]
  },
  {
   "cell_type": "code",
   "execution_count": 80,
   "metadata": {
    "colab": {
     "base_uri": "https://localhost:8080/",
     "height": 265
    },
    "executionInfo": {
     "elapsed": 1104,
     "status": "ok",
     "timestamp": 1642942154403,
     "user": {
      "displayName": "Abhinav Goel",
      "photoUrl": "https://lh3.googleusercontent.com/a/default-user=s64",
      "userId": "11532605844347405676"
     },
     "user_tz": -480
    },
    "id": "he6aKn7M-4CQ",
    "outputId": "9bb29e42-6fc8-460b-cdd9-99215d341700"
   },
   "outputs": [
    {
     "data": {
      "image/png": "[encoded data removed]",
      "text/plain": [
       "<Figure size 1080x288 with 2 Axes>"
      ]
     },
     "metadata": {
      "needs_background": "light"
     },
     "output_type": "display_data"
    }
   ],
   "source": [
    "plot(history_model3d1)"
   ]
  },
  {
   "cell_type": "markdown",
   "metadata": {
    "id": "Fn6gvNX28Vk_"
   },
   "source": [
    "# Model 6\n",
    "\n",
    "Trying another model using CNN3D by train the model to make it Batch Size = 16 and No. of Epochs = 20\n"
   ]
  },
  {
   "cell_type": "code",
   "execution_count": 81,
   "metadata": {
    "executionInfo": {
     "elapsed": 488,
     "status": "ok",
     "timestamp": 1642942194310,
     "user": {
      "displayName": "Abhinav Goel",
      "photoUrl": "https://lh3.googleusercontent.com/a/default-user=s64",
      "userId": "11532605844347405676"
     },
     "user_tz": -480
    },
    "id": "FpSB_9Zd8gv4"
   },
   "outputs": [],
   "source": [
    "# creating the `train_generator` and the `val_generator` which will be used in `.fit_generator`\n",
    "batch_size = 16\n",
    "train_generator = generator(train_path, train_doc, batch_size)\n",
    "val_generator = generator(val_path, val_doc, batch_size)\n",
    "if (num_train_sequences%batch_size) == 0:\n",
    "    steps_per_epoch = int(num_train_sequences/batch_size)\n",
    "else:\n",
    "    steps_per_epoch = (num_train_sequences//batch_size) + 1\n",
    "\n",
    "if (num_val_sequences%batch_size) == 0:\n",
    "    validation_steps = int(num_val_sequences/batch_size)\n",
    "else:\n",
    "    validation_steps = (num_val_sequences//batch_size) + 1\n",
    "\n",
    "num_epochs = 20\n"
   ]
  },
  {
   "cell_type": "markdown",
   "metadata": {
    "id": "8LR3xFIPLCV1"
   },
   "source": [
    "Let us now fit the model. This will start training the model and with the help of the checkpoints, you'll be able to save the model at the end of each epoch"
   ]
  },
  {
   "cell_type": "code",
   "execution_count": 82,
   "metadata": {
    "colab": {
     "base_uri": "https://localhost:8080/"
    },
    "executionInfo": {
     "elapsed": 802930,
     "status": "ok",
     "timestamp": 1642943067922,
     "user": {
      "displayName": "Abhinav Goel",
      "photoUrl": "https://lh3.googleusercontent.com/a/default-user=s64",
      "userId": "11532605844347405676"
     },
     "user_tz": -480
    },
    "id": "y6xLBtId-tBw",
    "outputId": "9df43a22-152f-4d12-fd63-61174b5164a0"
   },
   "outputs": [
    {
     "name": "stderr",
     "output_type": "stream",
     "text": [
      "/usr/local/lib/python3.7/dist-packages/ipykernel_launcher.py:3: UserWarning: `Model.fit_generator` is deprecated and will be removed in a future version. Please use `Model.fit`, which supports generators.\n",
      "  This is separate from the ipykernel package so we can avoid doing imports until\n",
      "/usr/local/lib/python3.7/dist-packages/ipykernel_launcher.py:13: DeprecationWarning:     `imread` is deprecated!\n",
      "    `imread` is deprecated in SciPy 1.0.0, and will be removed in 1.2.0.\n",
      "    Use ``imageio.imread`` instead.\n",
      "  del sys.path[0]\n",
      "/usr/local/lib/python3.7/dist-packages/ipykernel_launcher.py:5: DeprecationWarning:     `imresize` is deprecated!\n",
      "    `imresize` is deprecated in SciPy 1.0.0, and will be removed in 1.2.0.\n",
      "    Use ``skimage.transform.resize`` instead.\n",
      "  \"\"\"\n"
     ]
    },
    {
     "name": "stdout",
     "output_type": "stream",
     "text": [
      "Source path =  app/Project_data/train ; batch size = 16\n",
      "Epoch 1/20\n",
      "41/42 [============================>.] - ETA: 0s - loss: 0.0741 - categorical_accuracy: 0.9848"
     ]
    },
    {
     "name": "stderr",
     "output_type": "stream",
     "text": [
      "/usr/local/lib/python3.7/dist-packages/ipykernel_launcher.py:34: DeprecationWarning:     `imread` is deprecated!\n",
      "    `imread` is deprecated in SciPy 1.0.0, and will be removed in 1.2.0.\n",
      "    Use ``imageio.imread`` instead.\n"
     ]
    },
    {
     "name": "stdout",
     "output_type": "stream",
     "text": [
      "42/42 [==============================] - ETA: 0s - loss: 0.0735 - categorical_accuracy: 0.9849Source path =  app/Project_data/val ; batch size = 16\n",
      "\n",
      "Epoch 00001: saving model to model_init_2022-01-2308_53_31.399787/model-00001-0.07351-0.98492-1.56452-0.57000.h5\n",
      "42/42 [==============================] - 41s 967ms/step - loss: 0.0735 - categorical_accuracy: 0.9849 - val_loss: 1.5645 - val_categorical_accuracy: 0.5700 - lr: 1.0000e-07\n",
      "Epoch 2/20\n",
      "42/42 [==============================] - ETA: 0s - loss: 0.0814 - categorical_accuracy: 0.9744\n",
      "Epoch 00002: saving model to model_init_2022-01-2308_53_31.399787/model-00002-0.08142-0.97436-1.50674-0.60000.h5\n",
      "42/42 [==============================] - 40s 959ms/step - loss: 0.0814 - categorical_accuracy: 0.9744 - val_loss: 1.5067 - val_categorical_accuracy: 0.6000 - lr: 1.0000e-07\n",
      "Epoch 3/20\n",
      "42/42 [==============================] - ETA: 0s - loss: 0.0805 - categorical_accuracy: 0.9759\n",
      "Epoch 00003: saving model to model_init_2022-01-2308_53_31.399787/model-00003-0.08046-0.97587-1.55741-0.58000.h5\n",
      "42/42 [==============================] - 39s 949ms/step - loss: 0.0805 - categorical_accuracy: 0.9759 - val_loss: 1.5574 - val_categorical_accuracy: 0.5800 - lr: 1.0000e-07\n",
      "Epoch 4/20\n",
      "42/42 [==============================] - ETA: 0s - loss: 0.0674 - categorical_accuracy: 0.9819\n",
      "Epoch 00004: saving model to model_init_2022-01-2308_53_31.399787/model-00004-0.06736-0.98190-1.85776-0.56000.h5\n",
      "42/42 [==============================] - 39s 957ms/step - loss: 0.0674 - categorical_accuracy: 0.9819 - val_loss: 1.8578 - val_categorical_accuracy: 0.5600 - lr: 1.0000e-07\n",
      "Epoch 5/20\n",
      "42/42 [==============================] - ETA: 0s - loss: 0.0598 - categorical_accuracy: 0.9925\n",
      "Epoch 00005: saving model to model_init_2022-01-2308_53_31.399787/model-00005-0.05984-0.99246-1.36929-0.60000.h5\n",
      "42/42 [==============================] - 39s 945ms/step - loss: 0.0598 - categorical_accuracy: 0.9925 - val_loss: 1.3693 - val_categorical_accuracy: 0.6000 - lr: 1.0000e-07\n",
      "Epoch 6/20\n",
      "42/42 [==============================] - ETA: 0s - loss: 0.0694 - categorical_accuracy: 0.9789\n",
      "Epoch 00006: saving model to model_init_2022-01-2308_53_31.399787/model-00006-0.06937-0.97888-1.69278-0.59000.h5\n",
      "42/42 [==============================] - 40s 963ms/step - loss: 0.0694 - categorical_accuracy: 0.9789 - val_loss: 1.6928 - val_categorical_accuracy: 0.5900 - lr: 1.0000e-07\n",
      "Epoch 7/20\n",
      "42/42 [==============================] - ETA: 0s - loss: 0.0743 - categorical_accuracy: 0.9804\n",
      "Epoch 00007: saving model to model_init_2022-01-2308_53_31.399787/model-00007-0.07429-0.98039-1.60035-0.58000.h5\n",
      "42/42 [==============================] - 39s 943ms/step - loss: 0.0743 - categorical_accuracy: 0.9804 - val_loss: 1.6003 - val_categorical_accuracy: 0.5800 - lr: 1.0000e-07\n",
      "Epoch 8/20\n",
      "42/42 [==============================] - ETA: 0s - loss: 0.0813 - categorical_accuracy: 0.9713\n",
      "Epoch 00008: saving model to model_init_2022-01-2308_53_31.399787/model-00008-0.08128-0.97134-1.61111-0.58000.h5\n",
      "42/42 [==============================] - 39s 957ms/step - loss: 0.0813 - categorical_accuracy: 0.9713 - val_loss: 1.6111 - val_categorical_accuracy: 0.5800 - lr: 1.0000e-07\n",
      "Epoch 9/20\n",
      "42/42 [==============================] - ETA: 0s - loss: 0.0566 - categorical_accuracy: 0.9879\n",
      "Epoch 00009: saving model to model_init_2022-01-2308_53_31.399787/model-00009-0.05665-0.98793-1.76866-0.54000.h5\n",
      "42/42 [==============================] - 39s 955ms/step - loss: 0.0566 - categorical_accuracy: 0.9879 - val_loss: 1.7687 - val_categorical_accuracy: 0.5400 - lr: 1.0000e-07\n",
      "Epoch 10/20\n",
      "42/42 [==============================] - ETA: 0s - loss: 0.0744 - categorical_accuracy: 0.9804\n",
      "Epoch 00010: saving model to model_init_2022-01-2308_53_31.399787/model-00010-0.07443-0.98039-1.58610-0.59000.h5\n",
      "\n",
      "Epoch 00010: ReduceLROnPlateau reducing learning rate to 1.000000082740371e-09.\n",
      "42/42 [==============================] - 39s 943ms/step - loss: 0.0744 - categorical_accuracy: 0.9804 - val_loss: 1.5861 - val_categorical_accuracy: 0.5900 - lr: 1.0000e-07\n",
      "Epoch 11/20\n",
      "42/42 [==============================] - ETA: 0s - loss: 0.0798 - categorical_accuracy: 0.9789\n",
      "Epoch 00011: saving model to model_init_2022-01-2308_53_31.399787/model-00011-0.07978-0.97888-1.58648-0.58000.h5\n",
      "42/42 [==============================] - 39s 953ms/step - loss: 0.0798 - categorical_accuracy: 0.9789 - val_loss: 1.5865 - val_categorical_accuracy: 0.5800 - lr: 1.0000e-09\n",
      "Epoch 12/20\n",
      "42/42 [==============================] - ETA: 0s - loss: 0.0545 - categorical_accuracy: 0.9894\n",
      "Epoch 00012: saving model to model_init_2022-01-2308_53_31.399787/model-00012-0.05451-0.98944-1.70435-0.58000.h5\n",
      "42/42 [==============================] - 39s 947ms/step - loss: 0.0545 - categorical_accuracy: 0.9894 - val_loss: 1.7043 - val_categorical_accuracy: 0.5800 - lr: 1.0000e-09\n",
      "Epoch 13/20\n",
      "42/42 [==============================] - ETA: 0s - loss: 0.0647 - categorical_accuracy: 0.9864\n",
      "Epoch 00013: saving model to model_init_2022-01-2308_53_31.399787/model-00013-0.06474-0.98643-1.60121-0.62000.h5\n",
      "42/42 [==============================] - 39s 952ms/step - loss: 0.0647 - categorical_accuracy: 0.9864 - val_loss: 1.6012 - val_categorical_accuracy: 0.6200 - lr: 1.0000e-09\n",
      "Epoch 14/20\n",
      "42/42 [==============================] - ETA: 0s - loss: 0.0786 - categorical_accuracy: 0.9729\n",
      "Epoch 00014: saving model to model_init_2022-01-2308_53_31.399787/model-00014-0.07860-0.97285-1.67283-0.57000.h5\n",
      "42/42 [==============================] - 39s 937ms/step - loss: 0.0786 - categorical_accuracy: 0.9729 - val_loss: 1.6728 - val_categorical_accuracy: 0.5700 - lr: 1.0000e-09\n",
      "Epoch 15/20\n",
      "42/42 [==============================] - ETA: 0s - loss: 0.0715 - categorical_accuracy: 0.9774\n",
      "Epoch 00015: saving model to model_init_2022-01-2308_53_31.399787/model-00015-0.07152-0.97738-1.61865-0.58000.h5\n",
      "42/42 [==============================] - 39s 948ms/step - loss: 0.0715 - categorical_accuracy: 0.9774 - val_loss: 1.6186 - val_categorical_accuracy: 0.5800 - lr: 1.0000e-09\n",
      "Epoch 16/20\n",
      "42/42 [==============================] - ETA: 0s - loss: 0.0925 - categorical_accuracy: 0.9698\n",
      "Epoch 00016: saving model to model_init_2022-01-2308_53_31.399787/model-00016-0.09249-0.96983-1.63825-0.58000.h5\n",
      "42/42 [==============================] - 39s 957ms/step - loss: 0.0925 - categorical_accuracy: 0.9698 - val_loss: 1.6382 - val_categorical_accuracy: 0.5800 - lr: 1.0000e-09\n",
      "Epoch 17/20\n",
      "42/42 [==============================] - ETA: 0s - loss: 0.0664 - categorical_accuracy: 0.9834\n",
      "Epoch 00017: saving model to model_init_2022-01-2308_53_31.399787/model-00017-0.06638-0.98341-1.46406-0.63000.h5\n",
      "42/42 [==============================] - 40s 960ms/step - loss: 0.0664 - categorical_accuracy: 0.9834 - val_loss: 1.4641 - val_categorical_accuracy: 0.6300 - lr: 1.0000e-09\n",
      "Epoch 18/20\n",
      "42/42 [==============================] - ETA: 0s - loss: 0.0713 - categorical_accuracy: 0.9804\n",
      "Epoch 00018: saving model to model_init_2022-01-2308_53_31.399787/model-00018-0.07135-0.98039-1.41844-0.59000.h5\n",
      "\n",
      "Epoch 00018: ReduceLROnPlateau reducing learning rate to 1.000000082740371e-11.\n",
      "42/42 [==============================] - 39s 958ms/step - loss: 0.0713 - categorical_accuracy: 0.9804 - val_loss: 1.4184 - val_categorical_accuracy: 0.5900 - lr: 1.0000e-09\n",
      "Epoch 19/20\n",
      "42/42 [==============================] - ETA: 0s - loss: 0.0697 - categorical_accuracy: 0.9774\n",
      "Epoch 00019: saving model to model_init_2022-01-2308_53_31.399787/model-00019-0.06971-0.97738-1.60489-0.59000.h5\n",
      "42/42 [==============================] - 39s 938ms/step - loss: 0.0697 - categorical_accuracy: 0.9774 - val_loss: 1.6049 - val_categorical_accuracy: 0.5900 - lr: 1.0000e-11\n",
      "Epoch 20/20\n",
      "42/42 [==============================] - ETA: 0s - loss: 0.0648 - categorical_accuracy: 0.9834\n",
      "Epoch 00020: saving model to model_init_2022-01-2308_53_31.399787/model-00020-0.06479-0.98341-1.63617-0.55000.h5\n",
      "42/42 [==============================] - 39s 956ms/step - loss: 0.0648 - categorical_accuracy: 0.9834 - val_loss: 1.6362 - val_categorical_accuracy: 0.5500 - lr: 1.0000e-11\n"
     ]
    }
   ],
   "source": [
    "history_model3d2 = model3d.fit_generator(train_generator, steps_per_epoch=steps_per_epoch, epochs=num_epochs, verbose=1, \n",
    "                    callbacks=callbacks_list, validation_data=val_generator, \n",
    "                    validation_steps=validation_steps, class_weight=None, workers=1, initial_epoch=0)"
   ]
  },
  {
   "cell_type": "markdown",
   "metadata": {
    "id": "yMen5ZcELFKp"
   },
   "source": [
    "Plot # Model6"
   ]
  },
  {
   "cell_type": "code",
   "execution_count": 83,
   "metadata": {
    "colab": {
     "base_uri": "https://localhost:8080/",
     "height": 265
    },
    "executionInfo": {
     "elapsed": 920,
     "status": "ok",
     "timestamp": 1642943280440,
     "user": {
      "displayName": "Abhinav Goel",
      "photoUrl": "https://lh3.googleusercontent.com/a/default-user=s64",
      "userId": "11532605844347405676"
     },
     "user_tz": -480
    },
    "id": "J3zMlHkh_AEZ",
    "outputId": "ee4d63e9-80f3-461f-c7b3-fa7bb5f8ac1c"
   },
   "outputs": [
    {
     "data": {
      "image/png": "[encoded data removed]",
      "text/plain": [
       "<Figure size 1080x288 with 2 Axes>"
      ]
     },
     "metadata": {
      "needs_background": "light"
     },
     "output_type": "display_data"
    }
   ],
   "source": [
    "plot(history_model3d2)"
   ]
  },
  {
   "cell_type": "code",
   "execution_count": null,
   "metadata": {
    "id": "kmIa4kf3DO_A"
   },
   "outputs": [],
   "source": []
  }
 ],
 "metadata": {
  "accelerator": "GPU",
  "colab": {
   "authorship_tag": "ABX9TyP1BgszaL/BVxKh5pWnUN2w",
   "collapsed_sections": [],
   "name": "Gesture_Assignment_Abhinav",
   "provenance": [
    {
     "file_id": "1KsBLu788_tFrPpT0QcOxp479njQJ6443",
     "timestamp": 1642925737536
    }
   ]
  },
  "kernelspec": {
   "display_name": "Python 3",
   "language": "python",
   "name": "python3"
  },
  "language_info": {
   "codemirror_mode": {
    "name": "ipython",
    "version": 3
   },
   "file_extension": ".py",
   "mimetype": "text/x-python",
   "name": "python",
   "nbconvert_exporter": "python",
   "pygments_lexer": "ipython3",
   "version": "3.7.6"
  }
 },
 "nbformat": 4,
 "nbformat_minor": 1
}
